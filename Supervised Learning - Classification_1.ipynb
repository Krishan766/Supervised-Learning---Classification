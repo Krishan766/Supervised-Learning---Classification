{
 "cells": [
  {
   "cell_type": "code",
   "execution_count": 1,
   "id": "0b3e654c",
   "metadata": {
    "id": "0b3e654c"
   },
   "outputs": [],
   "source": [
    "# Import the required libraries\n",
    "import numpy as np\n",
    "import pandas as pd\n",
    "import warnings\n",
    "warnings.filterwarnings('ignore')"
   ]
  },
  {
   "cell_type": "code",
   "execution_count": 2,
   "id": "150ce18b",
   "metadata": {
    "id": "150ce18b"
   },
   "outputs": [],
   "source": [
    "# import the dataset\n",
    "train=pd.read_csv('train.csv')\n",
    "test=pd.read_csv('test.csv')"
   ]
  },
  {
   "cell_type": "code",
   "execution_count": null,
   "id": "HKwM0lyqwd87",
   "metadata": {
    "id": "HKwM0lyqwd87"
   },
   "outputs": [],
   "source": []
  },
  {
   "cell_type": "code",
   "execution_count": 3,
   "id": "38158fc2",
   "metadata": {
    "colab": {
     "base_uri": "https://localhost:8080/",
     "height": 258
    },
    "id": "38158fc2",
    "outputId": "2a40a6aa-8f56-41f3-ba8b-34707cbe51ea"
   },
   "outputs": [
    {
     "data": {
      "text/html": [
       "<div>\n",
       "<style scoped>\n",
       "    .dataframe tbody tr th:only-of-type {\n",
       "        vertical-align: middle;\n",
       "    }\n",
       "\n",
       "    .dataframe tbody tr th {\n",
       "        vertical-align: top;\n",
       "    }\n",
       "\n",
       "    .dataframe thead th {\n",
       "        text-align: right;\n",
       "    }\n",
       "</style>\n",
       "<table border=\"1\" class=\"dataframe\">\n",
       "  <thead>\n",
       "    <tr style=\"text-align: right;\">\n",
       "      <th></th>\n",
       "      <th>PassengerId</th>\n",
       "      <th>Survived</th>\n",
       "      <th>Pclass</th>\n",
       "      <th>Name</th>\n",
       "      <th>Sex</th>\n",
       "      <th>Age</th>\n",
       "      <th>SibSp</th>\n",
       "      <th>Parch</th>\n",
       "      <th>Ticket</th>\n",
       "      <th>Fare</th>\n",
       "      <th>Cabin</th>\n",
       "      <th>Embarked</th>\n",
       "    </tr>\n",
       "  </thead>\n",
       "  <tbody>\n",
       "    <tr>\n",
       "      <th>0</th>\n",
       "      <td>1</td>\n",
       "      <td>0</td>\n",
       "      <td>3</td>\n",
       "      <td>Braund, Mr. Owen Harris</td>\n",
       "      <td>male</td>\n",
       "      <td>22.0</td>\n",
       "      <td>1</td>\n",
       "      <td>0</td>\n",
       "      <td>A/5 21171</td>\n",
       "      <td>7.2500</td>\n",
       "      <td>NaN</td>\n",
       "      <td>S</td>\n",
       "    </tr>\n",
       "    <tr>\n",
       "      <th>1</th>\n",
       "      <td>2</td>\n",
       "      <td>1</td>\n",
       "      <td>1</td>\n",
       "      <td>Cumings, Mrs. John Bradley (Florence Briggs Th...</td>\n",
       "      <td>female</td>\n",
       "      <td>38.0</td>\n",
       "      <td>1</td>\n",
       "      <td>0</td>\n",
       "      <td>PC 17599</td>\n",
       "      <td>71.2833</td>\n",
       "      <td>C85</td>\n",
       "      <td>C</td>\n",
       "    </tr>\n",
       "    <tr>\n",
       "      <th>2</th>\n",
       "      <td>3</td>\n",
       "      <td>1</td>\n",
       "      <td>3</td>\n",
       "      <td>Heikkinen, Miss. Laina</td>\n",
       "      <td>female</td>\n",
       "      <td>26.0</td>\n",
       "      <td>0</td>\n",
       "      <td>0</td>\n",
       "      <td>STON/O2. 3101282</td>\n",
       "      <td>7.9250</td>\n",
       "      <td>NaN</td>\n",
       "      <td>S</td>\n",
       "    </tr>\n",
       "    <tr>\n",
       "      <th>3</th>\n",
       "      <td>4</td>\n",
       "      <td>1</td>\n",
       "      <td>1</td>\n",
       "      <td>Futrelle, Mrs. Jacques Heath (Lily May Peel)</td>\n",
       "      <td>female</td>\n",
       "      <td>35.0</td>\n",
       "      <td>1</td>\n",
       "      <td>0</td>\n",
       "      <td>113803</td>\n",
       "      <td>53.1000</td>\n",
       "      <td>C123</td>\n",
       "      <td>S</td>\n",
       "    </tr>\n",
       "    <tr>\n",
       "      <th>4</th>\n",
       "      <td>5</td>\n",
       "      <td>0</td>\n",
       "      <td>3</td>\n",
       "      <td>Allen, Mr. William Henry</td>\n",
       "      <td>male</td>\n",
       "      <td>35.0</td>\n",
       "      <td>0</td>\n",
       "      <td>0</td>\n",
       "      <td>373450</td>\n",
       "      <td>8.0500</td>\n",
       "      <td>NaN</td>\n",
       "      <td>S</td>\n",
       "    </tr>\n",
       "  </tbody>\n",
       "</table>\n",
       "</div>"
      ],
      "text/plain": [
       "   PassengerId  Survived  Pclass  \\\n",
       "0            1         0       3   \n",
       "1            2         1       1   \n",
       "2            3         1       3   \n",
       "3            4         1       1   \n",
       "4            5         0       3   \n",
       "\n",
       "                                                Name     Sex   Age  SibSp  \\\n",
       "0                            Braund, Mr. Owen Harris    male  22.0      1   \n",
       "1  Cumings, Mrs. John Bradley (Florence Briggs Th...  female  38.0      1   \n",
       "2                             Heikkinen, Miss. Laina  female  26.0      0   \n",
       "3       Futrelle, Mrs. Jacques Heath (Lily May Peel)  female  35.0      1   \n",
       "4                           Allen, Mr. William Henry    male  35.0      0   \n",
       "\n",
       "   Parch            Ticket     Fare Cabin Embarked  \n",
       "0      0         A/5 21171   7.2500   NaN        S  \n",
       "1      0          PC 17599  71.2833   C85        C  \n",
       "2      0  STON/O2. 3101282   7.9250   NaN        S  \n",
       "3      0            113803  53.1000  C123        S  \n",
       "4      0            373450   8.0500   NaN        S  "
      ]
     },
     "execution_count": 3,
     "metadata": {},
     "output_type": "execute_result"
    }
   ],
   "source": [
    "train.head()"
   ]
  },
  {
   "cell_type": "code",
   "execution_count": 4,
   "id": "e283dcc1",
   "metadata": {
    "colab": {
     "base_uri": "https://localhost:8080/",
     "height": 206
    },
    "id": "e283dcc1",
    "outputId": "aab7c295-f0e2-4ba8-dab9-f8c73d0b4905"
   },
   "outputs": [
    {
     "data": {
      "text/html": [
       "<div>\n",
       "<style scoped>\n",
       "    .dataframe tbody tr th:only-of-type {\n",
       "        vertical-align: middle;\n",
       "    }\n",
       "\n",
       "    .dataframe tbody tr th {\n",
       "        vertical-align: top;\n",
       "    }\n",
       "\n",
       "    .dataframe thead th {\n",
       "        text-align: right;\n",
       "    }\n",
       "</style>\n",
       "<table border=\"1\" class=\"dataframe\">\n",
       "  <thead>\n",
       "    <tr style=\"text-align: right;\">\n",
       "      <th></th>\n",
       "      <th>PassengerId</th>\n",
       "      <th>Pclass</th>\n",
       "      <th>Name</th>\n",
       "      <th>Sex</th>\n",
       "      <th>Age</th>\n",
       "      <th>SibSp</th>\n",
       "      <th>Parch</th>\n",
       "      <th>Ticket</th>\n",
       "      <th>Fare</th>\n",
       "      <th>Cabin</th>\n",
       "      <th>Embarked</th>\n",
       "    </tr>\n",
       "  </thead>\n",
       "  <tbody>\n",
       "    <tr>\n",
       "      <th>0</th>\n",
       "      <td>892</td>\n",
       "      <td>3</td>\n",
       "      <td>Kelly, Mr. James</td>\n",
       "      <td>male</td>\n",
       "      <td>34.5</td>\n",
       "      <td>0</td>\n",
       "      <td>0</td>\n",
       "      <td>330911</td>\n",
       "      <td>7.8292</td>\n",
       "      <td>NaN</td>\n",
       "      <td>Q</td>\n",
       "    </tr>\n",
       "    <tr>\n",
       "      <th>1</th>\n",
       "      <td>893</td>\n",
       "      <td>3</td>\n",
       "      <td>Wilkes, Mrs. James (Ellen Needs)</td>\n",
       "      <td>female</td>\n",
       "      <td>47.0</td>\n",
       "      <td>1</td>\n",
       "      <td>0</td>\n",
       "      <td>363272</td>\n",
       "      <td>7.0000</td>\n",
       "      <td>NaN</td>\n",
       "      <td>S</td>\n",
       "    </tr>\n",
       "    <tr>\n",
       "      <th>2</th>\n",
       "      <td>894</td>\n",
       "      <td>2</td>\n",
       "      <td>Myles, Mr. Thomas Francis</td>\n",
       "      <td>male</td>\n",
       "      <td>62.0</td>\n",
       "      <td>0</td>\n",
       "      <td>0</td>\n",
       "      <td>240276</td>\n",
       "      <td>9.6875</td>\n",
       "      <td>NaN</td>\n",
       "      <td>Q</td>\n",
       "    </tr>\n",
       "    <tr>\n",
       "      <th>3</th>\n",
       "      <td>895</td>\n",
       "      <td>3</td>\n",
       "      <td>Wirz, Mr. Albert</td>\n",
       "      <td>male</td>\n",
       "      <td>27.0</td>\n",
       "      <td>0</td>\n",
       "      <td>0</td>\n",
       "      <td>315154</td>\n",
       "      <td>8.6625</td>\n",
       "      <td>NaN</td>\n",
       "      <td>S</td>\n",
       "    </tr>\n",
       "    <tr>\n",
       "      <th>4</th>\n",
       "      <td>896</td>\n",
       "      <td>3</td>\n",
       "      <td>Hirvonen, Mrs. Alexander (Helga E Lindqvist)</td>\n",
       "      <td>female</td>\n",
       "      <td>22.0</td>\n",
       "      <td>1</td>\n",
       "      <td>1</td>\n",
       "      <td>3101298</td>\n",
       "      <td>12.2875</td>\n",
       "      <td>NaN</td>\n",
       "      <td>S</td>\n",
       "    </tr>\n",
       "  </tbody>\n",
       "</table>\n",
       "</div>"
      ],
      "text/plain": [
       "   PassengerId  Pclass                                          Name     Sex  \\\n",
       "0          892       3                              Kelly, Mr. James    male   \n",
       "1          893       3              Wilkes, Mrs. James (Ellen Needs)  female   \n",
       "2          894       2                     Myles, Mr. Thomas Francis    male   \n",
       "3          895       3                              Wirz, Mr. Albert    male   \n",
       "4          896       3  Hirvonen, Mrs. Alexander (Helga E Lindqvist)  female   \n",
       "\n",
       "    Age  SibSp  Parch   Ticket     Fare Cabin Embarked  \n",
       "0  34.5      0      0   330911   7.8292   NaN        Q  \n",
       "1  47.0      1      0   363272   7.0000   NaN        S  \n",
       "2  62.0      0      0   240276   9.6875   NaN        Q  \n",
       "3  27.0      0      0   315154   8.6625   NaN        S  \n",
       "4  22.0      1      1  3101298  12.2875   NaN        S  "
      ]
     },
     "execution_count": 4,
     "metadata": {},
     "output_type": "execute_result"
    }
   ],
   "source": [
    "test.head()"
   ]
  },
  {
   "cell_type": "markdown",
   "id": "0c3f902e",
   "metadata": {
    "id": "0c3f902e"
   },
   "source": [
    "* Feature Engineering\n",
    "* Missing Value\n",
    "* One Hot Encoding"
   ]
  },
  {
   "cell_type": "code",
   "execution_count": 5,
   "id": "2eb7d7ee",
   "metadata": {
    "id": "2eb7d7ee"
   },
   "outputs": [],
   "source": [
    "# Combine the data\n",
    "combined=pd.concat([train,test],ignore_index=True)"
   ]
  },
  {
   "cell_type": "code",
   "execution_count": 6,
   "id": "571b3f71",
   "metadata": {
    "colab": {
     "base_uri": "https://localhost:8080/",
     "height": 545
    },
    "id": "571b3f71",
    "outputId": "a7c8f3a1-0e78-42d9-8b2c-3b355ada80b6"
   },
   "outputs": [
    {
     "data": {
      "text/html": [
       "<div>\n",
       "<style scoped>\n",
       "    .dataframe tbody tr th:only-of-type {\n",
       "        vertical-align: middle;\n",
       "    }\n",
       "\n",
       "    .dataframe tbody tr th {\n",
       "        vertical-align: top;\n",
       "    }\n",
       "\n",
       "    .dataframe thead th {\n",
       "        text-align: right;\n",
       "    }\n",
       "</style>\n",
       "<table border=\"1\" class=\"dataframe\">\n",
       "  <thead>\n",
       "    <tr style=\"text-align: right;\">\n",
       "      <th></th>\n",
       "      <th>PassengerId</th>\n",
       "      <th>Survived</th>\n",
       "      <th>Pclass</th>\n",
       "      <th>Name</th>\n",
       "      <th>Sex</th>\n",
       "      <th>Age</th>\n",
       "      <th>SibSp</th>\n",
       "      <th>Parch</th>\n",
       "      <th>Ticket</th>\n",
       "      <th>Fare</th>\n",
       "      <th>Cabin</th>\n",
       "      <th>Embarked</th>\n",
       "    </tr>\n",
       "  </thead>\n",
       "  <tbody>\n",
       "    <tr>\n",
       "      <th>0</th>\n",
       "      <td>1</td>\n",
       "      <td>0.0</td>\n",
       "      <td>3</td>\n",
       "      <td>Braund, Mr. Owen Harris</td>\n",
       "      <td>male</td>\n",
       "      <td>22.0</td>\n",
       "      <td>1</td>\n",
       "      <td>0</td>\n",
       "      <td>A/5 21171</td>\n",
       "      <td>7.2500</td>\n",
       "      <td>NaN</td>\n",
       "      <td>S</td>\n",
       "    </tr>\n",
       "    <tr>\n",
       "      <th>1</th>\n",
       "      <td>2</td>\n",
       "      <td>1.0</td>\n",
       "      <td>1</td>\n",
       "      <td>Cumings, Mrs. John Bradley (Florence Briggs Th...</td>\n",
       "      <td>female</td>\n",
       "      <td>38.0</td>\n",
       "      <td>1</td>\n",
       "      <td>0</td>\n",
       "      <td>PC 17599</td>\n",
       "      <td>71.2833</td>\n",
       "      <td>C85</td>\n",
       "      <td>C</td>\n",
       "    </tr>\n",
       "    <tr>\n",
       "      <th>2</th>\n",
       "      <td>3</td>\n",
       "      <td>1.0</td>\n",
       "      <td>3</td>\n",
       "      <td>Heikkinen, Miss. Laina</td>\n",
       "      <td>female</td>\n",
       "      <td>26.0</td>\n",
       "      <td>0</td>\n",
       "      <td>0</td>\n",
       "      <td>STON/O2. 3101282</td>\n",
       "      <td>7.9250</td>\n",
       "      <td>NaN</td>\n",
       "      <td>S</td>\n",
       "    </tr>\n",
       "    <tr>\n",
       "      <th>3</th>\n",
       "      <td>4</td>\n",
       "      <td>1.0</td>\n",
       "      <td>1</td>\n",
       "      <td>Futrelle, Mrs. Jacques Heath (Lily May Peel)</td>\n",
       "      <td>female</td>\n",
       "      <td>35.0</td>\n",
       "      <td>1</td>\n",
       "      <td>0</td>\n",
       "      <td>113803</td>\n",
       "      <td>53.1000</td>\n",
       "      <td>C123</td>\n",
       "      <td>S</td>\n",
       "    </tr>\n",
       "    <tr>\n",
       "      <th>4</th>\n",
       "      <td>5</td>\n",
       "      <td>0.0</td>\n",
       "      <td>3</td>\n",
       "      <td>Allen, Mr. William Henry</td>\n",
       "      <td>male</td>\n",
       "      <td>35.0</td>\n",
       "      <td>0</td>\n",
       "      <td>0</td>\n",
       "      <td>373450</td>\n",
       "      <td>8.0500</td>\n",
       "      <td>NaN</td>\n",
       "      <td>S</td>\n",
       "    </tr>\n",
       "    <tr>\n",
       "      <th>...</th>\n",
       "      <td>...</td>\n",
       "      <td>...</td>\n",
       "      <td>...</td>\n",
       "      <td>...</td>\n",
       "      <td>...</td>\n",
       "      <td>...</td>\n",
       "      <td>...</td>\n",
       "      <td>...</td>\n",
       "      <td>...</td>\n",
       "      <td>...</td>\n",
       "      <td>...</td>\n",
       "      <td>...</td>\n",
       "    </tr>\n",
       "    <tr>\n",
       "      <th>1304</th>\n",
       "      <td>1305</td>\n",
       "      <td>NaN</td>\n",
       "      <td>3</td>\n",
       "      <td>Spector, Mr. Woolf</td>\n",
       "      <td>male</td>\n",
       "      <td>NaN</td>\n",
       "      <td>0</td>\n",
       "      <td>0</td>\n",
       "      <td>A.5. 3236</td>\n",
       "      <td>8.0500</td>\n",
       "      <td>NaN</td>\n",
       "      <td>S</td>\n",
       "    </tr>\n",
       "    <tr>\n",
       "      <th>1305</th>\n",
       "      <td>1306</td>\n",
       "      <td>NaN</td>\n",
       "      <td>1</td>\n",
       "      <td>Oliva y Ocana, Dona. Fermina</td>\n",
       "      <td>female</td>\n",
       "      <td>39.0</td>\n",
       "      <td>0</td>\n",
       "      <td>0</td>\n",
       "      <td>PC 17758</td>\n",
       "      <td>108.9000</td>\n",
       "      <td>C105</td>\n",
       "      <td>C</td>\n",
       "    </tr>\n",
       "    <tr>\n",
       "      <th>1306</th>\n",
       "      <td>1307</td>\n",
       "      <td>NaN</td>\n",
       "      <td>3</td>\n",
       "      <td>Saether, Mr. Simon Sivertsen</td>\n",
       "      <td>male</td>\n",
       "      <td>38.5</td>\n",
       "      <td>0</td>\n",
       "      <td>0</td>\n",
       "      <td>SOTON/O.Q. 3101262</td>\n",
       "      <td>7.2500</td>\n",
       "      <td>NaN</td>\n",
       "      <td>S</td>\n",
       "    </tr>\n",
       "    <tr>\n",
       "      <th>1307</th>\n",
       "      <td>1308</td>\n",
       "      <td>NaN</td>\n",
       "      <td>3</td>\n",
       "      <td>Ware, Mr. Frederick</td>\n",
       "      <td>male</td>\n",
       "      <td>NaN</td>\n",
       "      <td>0</td>\n",
       "      <td>0</td>\n",
       "      <td>359309</td>\n",
       "      <td>8.0500</td>\n",
       "      <td>NaN</td>\n",
       "      <td>S</td>\n",
       "    </tr>\n",
       "    <tr>\n",
       "      <th>1308</th>\n",
       "      <td>1309</td>\n",
       "      <td>NaN</td>\n",
       "      <td>3</td>\n",
       "      <td>Peter, Master. Michael J</td>\n",
       "      <td>male</td>\n",
       "      <td>NaN</td>\n",
       "      <td>1</td>\n",
       "      <td>1</td>\n",
       "      <td>2668</td>\n",
       "      <td>22.3583</td>\n",
       "      <td>NaN</td>\n",
       "      <td>C</td>\n",
       "    </tr>\n",
       "  </tbody>\n",
       "</table>\n",
       "<p>1309 rows × 12 columns</p>\n",
       "</div>"
      ],
      "text/plain": [
       "      PassengerId  Survived  Pclass  \\\n",
       "0               1       0.0       3   \n",
       "1               2       1.0       1   \n",
       "2               3       1.0       3   \n",
       "3               4       1.0       1   \n",
       "4               5       0.0       3   \n",
       "...           ...       ...     ...   \n",
       "1304         1305       NaN       3   \n",
       "1305         1306       NaN       1   \n",
       "1306         1307       NaN       3   \n",
       "1307         1308       NaN       3   \n",
       "1308         1309       NaN       3   \n",
       "\n",
       "                                                   Name     Sex   Age  SibSp  \\\n",
       "0                               Braund, Mr. Owen Harris    male  22.0      1   \n",
       "1     Cumings, Mrs. John Bradley (Florence Briggs Th...  female  38.0      1   \n",
       "2                                Heikkinen, Miss. Laina  female  26.0      0   \n",
       "3          Futrelle, Mrs. Jacques Heath (Lily May Peel)  female  35.0      1   \n",
       "4                              Allen, Mr. William Henry    male  35.0      0   \n",
       "...                                                 ...     ...   ...    ...   \n",
       "1304                                 Spector, Mr. Woolf    male   NaN      0   \n",
       "1305                       Oliva y Ocana, Dona. Fermina  female  39.0      0   \n",
       "1306                       Saether, Mr. Simon Sivertsen    male  38.5      0   \n",
       "1307                                Ware, Mr. Frederick    male   NaN      0   \n",
       "1308                           Peter, Master. Michael J    male   NaN      1   \n",
       "\n",
       "      Parch              Ticket      Fare Cabin Embarked  \n",
       "0         0           A/5 21171    7.2500   NaN        S  \n",
       "1         0            PC 17599   71.2833   C85        C  \n",
       "2         0    STON/O2. 3101282    7.9250   NaN        S  \n",
       "3         0              113803   53.1000  C123        S  \n",
       "4         0              373450    8.0500   NaN        S  \n",
       "...     ...                 ...       ...   ...      ...  \n",
       "1304      0           A.5. 3236    8.0500   NaN        S  \n",
       "1305      0            PC 17758  108.9000  C105        C  \n",
       "1306      0  SOTON/O.Q. 3101262    7.2500   NaN        S  \n",
       "1307      0              359309    8.0500   NaN        S  \n",
       "1308      1                2668   22.3583   NaN        C  \n",
       "\n",
       "[1309 rows x 12 columns]"
      ]
     },
     "execution_count": 6,
     "metadata": {},
     "output_type": "execute_result"
    }
   ],
   "source": [
    "combined"
   ]
  },
  {
   "cell_type": "markdown",
   "id": "6ff4d5b5",
   "metadata": {
    "id": "6ff4d5b5"
   },
   "source": [
    "# EDA"
   ]
  },
  {
   "cell_type": "code",
   "execution_count": 7,
   "id": "00cdb9ac",
   "metadata": {
    "colab": {
     "base_uri": "https://localhost:8080/"
    },
    "id": "00cdb9ac",
    "outputId": "6a4f787b-76ff-4a8f-a86b-64ebea3f72f4"
   },
   "outputs": [
    {
     "data": {
      "text/plain": [
       "Survived     418\n",
       "Age          263\n",
       "Fare           1\n",
       "Cabin       1014\n",
       "Embarked       2\n",
       "dtype: int64"
      ]
     },
     "execution_count": 7,
     "metadata": {},
     "output_type": "execute_result"
    }
   ],
   "source": [
    "# Check the missing values\n",
    "combined.isnull().sum()[combined.isnull().sum()!=0]"
   ]
  },
  {
   "cell_type": "code",
   "execution_count": 8,
   "id": "1cc83a0b",
   "metadata": {
    "colab": {
     "base_uri": "https://localhost:8080/"
    },
    "id": "1cc83a0b",
    "outputId": "d1dc42bf-95fa-4eb5-c3b5-b54de09ead51"
   },
   "outputs": [
    {
     "data": {
      "text/plain": [
       "array([nan, 'C85', 'C123', 'E46', 'G6', 'C103', 'D56', 'A6',\n",
       "       'C23 C25 C27', 'B78', 'D33', 'B30', 'C52', 'B28', 'C83', 'F33',\n",
       "       'F G73', 'E31', 'A5', 'D10 D12', 'D26', 'C110', 'B58 B60', 'E101',\n",
       "       'F E69', 'D47', 'B86', 'F2', 'C2', 'E33', 'B19', 'A7', 'C49', 'F4',\n",
       "       'A32', 'B4', 'B80', 'A31', 'D36', 'D15', 'C93', 'C78', 'D35',\n",
       "       'C87', 'B77', 'E67', 'B94', 'C125', 'C99', 'C118', 'D7', 'A19',\n",
       "       'B49', 'D', 'C22 C26', 'C106', 'C65', 'E36', 'C54',\n",
       "       'B57 B59 B63 B66', 'C7', 'E34', 'C32', 'B18', 'C124', 'C91', 'E40',\n",
       "       'T', 'C128', 'D37', 'B35', 'E50', 'C82', 'B96 B98', 'E10', 'E44',\n",
       "       'A34', 'C104', 'C111', 'C92', 'E38', 'D21', 'E12', 'E63', 'A14',\n",
       "       'B37', 'C30', 'D20', 'B79', 'E25', 'D46', 'B73', 'C95', 'B38',\n",
       "       'B39', 'B22', 'C86', 'C70', 'A16', 'C101', 'C68', 'A10', 'E68',\n",
       "       'B41', 'A20', 'D19', 'D50', 'D9', 'A23', 'B50', 'A26', 'D48',\n",
       "       'E58', 'C126', 'B71', 'B51 B53 B55', 'D49', 'B5', 'B20', 'F G63',\n",
       "       'C62 C64', 'E24', 'C90', 'C45', 'E8', 'B101', 'D45', 'C46', 'D30',\n",
       "       'E121', 'D11', 'E77', 'F38', 'B3', 'D6', 'B82 B84', 'D17', 'A36',\n",
       "       'B102', 'B69', 'E49', 'C47', 'D28', 'E17', 'A24', 'C50', 'B42',\n",
       "       'C148', 'B45', 'B36', 'A21', 'D34', 'A9', 'C31', 'B61', 'C53',\n",
       "       'D43', 'C130', 'C132', 'C55 C57', 'C116', 'F', 'A29', 'C6', 'C28',\n",
       "       'C51', 'C97', 'D22', 'B10', 'E45', 'E52', 'A11', 'B11', 'C80',\n",
       "       'C89', 'F E46', 'B26', 'F E57', 'A18', 'E60', 'E39 E41',\n",
       "       'B52 B54 B56', 'C39', 'B24', 'D40', 'D38', 'C105'], dtype=object)"
      ]
     },
     "execution_count": 8,
     "metadata": {},
     "output_type": "execute_result"
    }
   ],
   "source": [
    "combined.Cabin.unique()"
   ]
  },
  {
   "cell_type": "code",
   "execution_count": 9,
   "id": "1471851f",
   "metadata": {
    "id": "1471851f"
   },
   "outputs": [],
   "source": [
    "cabins=[ 'C85', 'C123', 'E46', 'G6', 'C103', 'D56', 'A6',\n",
    "       'C23 C25 C27', 'B78', 'D33', 'B30', 'C52', 'B28', 'C83', 'F33',\n",
    "       'F G73', 'E31', 'A5', 'D10 D12', 'D26', 'C110', 'B58 B60', 'E101',\n",
    "       'F E69', 'D47', 'B86', 'F2', 'C2', 'E33', 'B19', 'A7', 'C49', 'F4',\n",
    "       'A32', 'B4', 'B80', 'A31', 'D36', 'D15', 'C93', 'C78', 'D35',\n",
    "       'C87', 'B77', 'E67', 'B94', 'C125', 'C99', 'C118', 'D7', 'A19',\n",
    "       'B49', 'D', 'C22 C26', 'C106', 'C65', 'E36', 'C54',\n",
    "       'B57 B59 B63 B66', 'C7', 'E34', 'C32', 'B18', 'C124', 'C91', 'E40',\n",
    "       'T', 'C128', 'D37', 'B35', 'E50', 'C82', 'B96 B98', 'E10', 'E44',\n",
    "       'A34', 'C104', 'C111', 'C92', 'E38', 'D21', 'E12', 'E63', 'A14',\n",
    "       'B37', 'C30', 'D20', 'B79', 'E25', 'D46', 'B73', 'C95', 'B38',\n",
    "       'B39', 'B22', 'C86', 'C70', 'A16', 'C101', 'C68', 'A10', 'E68',\n",
    "       'B41', 'A20', 'D19', 'D50', 'D9', 'A23', 'B50', 'A26', 'D48',\n",
    "       'E58', 'C126', 'B71', 'B51 B53 B55', 'D49', 'B5', 'B20', 'F G63',\n",
    "       'C62 C64', 'E24', 'C90', 'C45', 'E8', 'B101', 'D45', 'C46', 'D30',\n",
    "       'E121', 'D11', 'E77', 'F38', 'B3', 'D6', 'B82 B84', 'D17', 'A36',\n",
    "       'B102', 'B69', 'E49', 'C47', 'D28', 'E17', 'A24', 'C50', 'B42',\n",
    "       'C148', 'B45', 'B36', 'A21', 'D34', 'A9', 'C31', 'B61', 'C53',\n",
    "       'D43', 'C130', 'C132', 'C55 C57', 'C116', 'F', 'A29', 'C6', 'C28',\n",
    "       'C51', 'C97', 'D22', 'B10', 'E45', 'E52', 'A11', 'B11', 'C80',\n",
    "       'C89', 'F E46', 'B26', 'F E57', 'A18', 'E60', 'E39 E41',\n",
    "       'B52 B54 B56', 'C39', 'B24', 'D40', 'D38', 'C105']"
   ]
  },
  {
   "cell_type": "code",
   "execution_count": 10,
   "id": "9cf843fd",
   "metadata": {
    "colab": {
     "base_uri": "https://localhost:8080/"
    },
    "id": "9cf843fd",
    "outputId": "5b0976fa-3e64-414e-d833-e7d57e7e8ce9"
   },
   "outputs": [
    {
     "data": {
      "text/plain": [
       "((891, 12), (418, 11), (1309, 12))"
      ]
     },
     "execution_count": 10,
     "metadata": {},
     "output_type": "execute_result"
    }
   ],
   "source": [
    "train.shape,test.shape,combined.shape"
   ]
  },
  {
   "cell_type": "code",
   "execution_count": 11,
   "id": "1b1e6474",
   "metadata": {
    "id": "1b1e6474"
   },
   "outputs": [],
   "source": [
    "def cabin_labels(x):\n",
    "    if x in cabins:\n",
    "        return ('Cabin_Avbl')\n",
    "    else:\n",
    "        return ('Missing')"
   ]
  },
  {
   "cell_type": "code",
   "execution_count": 12,
   "id": "eca1f8ef",
   "metadata": {
    "id": "eca1f8ef"
   },
   "outputs": [],
   "source": [
    "# lets apply this on cabin columns\n",
    "combined['Cabin_Cat']=combined['Cabin'].apply(cabin_labels)"
   ]
  },
  {
   "cell_type": "code",
   "execution_count": 13,
   "id": "3311baa2",
   "metadata": {
    "colab": {
     "base_uri": "https://localhost:8080/",
     "height": 477
    },
    "id": "3311baa2",
    "outputId": "fe93593a-85dd-4d6f-c0d2-4563dc464b7c"
   },
   "outputs": [
    {
     "data": {
      "text/plain": [
       "<Axes: xlabel='Survived'>"
      ]
     },
     "execution_count": 13,
     "metadata": {},
     "output_type": "execute_result"
    },
    {
     "data": {
      "image/png": "[encoded data removed]",
      "text/plain": [
       "<Figure size 640x480 with 1 Axes>"
      ]
     },
     "metadata": {},
     "output_type": "display_data"
    }
   ],
   "source": [
    "pd.crosstab(combined.Survived,combined.Cabin_Cat).plot(kind='bar')"
   ]
  },
  {
   "cell_type": "markdown",
   "id": "ac5484b7",
   "metadata": {
    "id": "ac5484b7"
   },
   "source": [
    "### Name"
   ]
  },
  {
   "cell_type": "code",
   "execution_count": 14,
   "id": "bf7dbd66",
   "metadata": {
    "colab": {
     "base_uri": "https://localhost:8080/",
     "height": 35
    },
    "id": "bf7dbd66",
    "outputId": "31e4a7f1-6f6a-4664-e865-2030a3e292de"
   },
   "outputs": [
    {
     "data": {
      "text/plain": [
       "'Mr'"
      ]
     },
     "execution_count": 14,
     "metadata": {},
     "output_type": "execute_result"
    }
   ],
   "source": [
    "combined.Name[0].split(', ')[1].split('. ')[0] # for 1 name"
   ]
  },
  {
   "cell_type": "code",
   "execution_count": 15,
   "id": "67361249",
   "metadata": {
    "id": "67361249"
   },
   "outputs": [],
   "source": [
    "titles=[]  # for all the names\n",
    "for i in combined.Name:\n",
    "    titles.append(i.split(', ')[1].split('. ')[0])"
   ]
  },
  {
   "cell_type": "code",
   "execution_count": 16,
   "id": "909b875b",
   "metadata": {
    "id": "909b875b"
   },
   "outputs": [],
   "source": [
    "combined['Titles']=pd.Series(titles)"
   ]
  },
  {
   "cell_type": "code",
   "execution_count": 17,
   "id": "ba89636f",
   "metadata": {
    "colab": {
     "base_uri": "https://localhost:8080/"
    },
    "id": "ba89636f",
    "outputId": "6226fc30-4845-4f19-aa00-1ffa2c0cd147"
   },
   "outputs": [
    {
     "data": {
      "text/plain": [
       "array(['Mr', 'Mrs', 'Miss', 'Master', 'Don', 'Rev', 'Dr', 'Mme', 'Ms',\n",
       "       'Major', 'Lady', 'Sir', 'Mlle', 'Col', 'Capt', 'the Countess',\n",
       "       'Jonkheer', 'Dona'], dtype=object)"
      ]
     },
     "execution_count": 17,
     "metadata": {},
     "output_type": "execute_result"
    }
   ],
   "source": [
    "combined.Titles.unique()"
   ]
  },
  {
   "cell_type": "code",
   "execution_count": 18,
   "id": "f9218791",
   "metadata": {
    "id": "f9218791"
   },
   "outputs": [],
   "source": [
    "titles_ignore=[ 'Don', 'Rev', 'Dr', 'Mme',\n",
    "       'Major', 'Lady', 'Sir', 'Mlle', 'Col', 'Capt', 'the Countess',\n",
    "       'Jonkheer', 'Dona']\n",
    "\n",
    "def notitle(x):\n",
    "    if x in titles_ignore:\n",
    "        return('Others')\n",
    "    else:\n",
    "        return(x)"
   ]
  },
  {
   "cell_type": "code",
   "execution_count": 19,
   "id": "b7d5982e",
   "metadata": {
    "id": "b7d5982e"
   },
   "outputs": [],
   "source": [
    "combined['Titles']=combined.Titles.apply(notitle)"
   ]
  },
  {
   "cell_type": "code",
   "execution_count": 20,
   "id": "6524830e",
   "metadata": {
    "colab": {
     "base_uri": "https://localhost:8080/"
    },
    "id": "6524830e",
    "outputId": "b031b60d-e157-47c0-9d52-04e5450aa88f"
   },
   "outputs": [
    {
     "data": {
      "text/plain": [
       "array(['Mr', 'Mrs', 'Miss', 'Master', 'Others', 'Ms'], dtype=object)"
      ]
     },
     "execution_count": 20,
     "metadata": {},
     "output_type": "execute_result"
    }
   ],
   "source": [
    "combined.Titles.apply(notitle).unique()"
   ]
  },
  {
   "cell_type": "code",
   "execution_count": 21,
   "id": "f2a781e8",
   "metadata": {
    "id": "f2a781e8"
   },
   "outputs": [],
   "source": [
    "combined.drop(['PassengerId','Name','Cabin','Ticket'],axis=1,inplace=True)"
   ]
  },
  {
   "cell_type": "code",
   "execution_count": 22,
   "id": "5764bb73",
   "metadata": {
    "colab": {
     "base_uri": "https://localhost:8080/",
     "height": 206
    },
    "id": "5764bb73",
    "outputId": "a77baa4a-2fcb-420a-deba-1607203b9f53"
   },
   "outputs": [
    {
     "data": {
      "text/html": [
       "<div>\n",
       "<style scoped>\n",
       "    .dataframe tbody tr th:only-of-type {\n",
       "        vertical-align: middle;\n",
       "    }\n",
       "\n",
       "    .dataframe tbody tr th {\n",
       "        vertical-align: top;\n",
       "    }\n",
       "\n",
       "    .dataframe thead th {\n",
       "        text-align: right;\n",
       "    }\n",
       "</style>\n",
       "<table border=\"1\" class=\"dataframe\">\n",
       "  <thead>\n",
       "    <tr style=\"text-align: right;\">\n",
       "      <th></th>\n",
       "      <th>Survived</th>\n",
       "      <th>Pclass</th>\n",
       "      <th>Sex</th>\n",
       "      <th>Age</th>\n",
       "      <th>SibSp</th>\n",
       "      <th>Parch</th>\n",
       "      <th>Fare</th>\n",
       "      <th>Embarked</th>\n",
       "      <th>Cabin_Cat</th>\n",
       "      <th>Titles</th>\n",
       "    </tr>\n",
       "  </thead>\n",
       "  <tbody>\n",
       "    <tr>\n",
       "      <th>0</th>\n",
       "      <td>0.0</td>\n",
       "      <td>3</td>\n",
       "      <td>male</td>\n",
       "      <td>22.0</td>\n",
       "      <td>1</td>\n",
       "      <td>0</td>\n",
       "      <td>7.2500</td>\n",
       "      <td>S</td>\n",
       "      <td>Missing</td>\n",
       "      <td>Mr</td>\n",
       "    </tr>\n",
       "    <tr>\n",
       "      <th>1</th>\n",
       "      <td>1.0</td>\n",
       "      <td>1</td>\n",
       "      <td>female</td>\n",
       "      <td>38.0</td>\n",
       "      <td>1</td>\n",
       "      <td>0</td>\n",
       "      <td>71.2833</td>\n",
       "      <td>C</td>\n",
       "      <td>Cabin_Avbl</td>\n",
       "      <td>Mrs</td>\n",
       "    </tr>\n",
       "    <tr>\n",
       "      <th>2</th>\n",
       "      <td>1.0</td>\n",
       "      <td>3</td>\n",
       "      <td>female</td>\n",
       "      <td>26.0</td>\n",
       "      <td>0</td>\n",
       "      <td>0</td>\n",
       "      <td>7.9250</td>\n",
       "      <td>S</td>\n",
       "      <td>Missing</td>\n",
       "      <td>Miss</td>\n",
       "    </tr>\n",
       "    <tr>\n",
       "      <th>3</th>\n",
       "      <td>1.0</td>\n",
       "      <td>1</td>\n",
       "      <td>female</td>\n",
       "      <td>35.0</td>\n",
       "      <td>1</td>\n",
       "      <td>0</td>\n",
       "      <td>53.1000</td>\n",
       "      <td>S</td>\n",
       "      <td>Cabin_Avbl</td>\n",
       "      <td>Mrs</td>\n",
       "    </tr>\n",
       "    <tr>\n",
       "      <th>4</th>\n",
       "      <td>0.0</td>\n",
       "      <td>3</td>\n",
       "      <td>male</td>\n",
       "      <td>35.0</td>\n",
       "      <td>0</td>\n",
       "      <td>0</td>\n",
       "      <td>8.0500</td>\n",
       "      <td>S</td>\n",
       "      <td>Missing</td>\n",
       "      <td>Mr</td>\n",
       "    </tr>\n",
       "  </tbody>\n",
       "</table>\n",
       "</div>"
      ],
      "text/plain": [
       "   Survived  Pclass     Sex   Age  SibSp  Parch     Fare Embarked   Cabin_Cat  \\\n",
       "0       0.0       3    male  22.0      1      0   7.2500        S     Missing   \n",
       "1       1.0       1  female  38.0      1      0  71.2833        C  Cabin_Avbl   \n",
       "2       1.0       3  female  26.0      0      0   7.9250        S     Missing   \n",
       "3       1.0       1  female  35.0      1      0  53.1000        S  Cabin_Avbl   \n",
       "4       0.0       3    male  35.0      0      0   8.0500        S     Missing   \n",
       "\n",
       "  Titles  \n",
       "0     Mr  \n",
       "1    Mrs  \n",
       "2   Miss  \n",
       "3    Mrs  \n",
       "4     Mr  "
      ]
     },
     "execution_count": 22,
     "metadata": {},
     "output_type": "execute_result"
    }
   ],
   "source": [
    "combined.head()"
   ]
  },
  {
   "cell_type": "markdown",
   "id": "b0820537",
   "metadata": {
    "id": "b0820537"
   },
   "source": [
    "### Family"
   ]
  },
  {
   "cell_type": "code",
   "execution_count": 23,
   "id": "8a00ce1a",
   "metadata": {
    "id": "8a00ce1a"
   },
   "outputs": [],
   "source": [
    "combined['Family']=combined.SibSp+combined.Parch+1"
   ]
  },
  {
   "cell_type": "code",
   "execution_count": 24,
   "id": "2cc552cc",
   "metadata": {
    "colab": {
     "base_uri": "https://localhost:8080/"
    },
    "id": "2cc552cc",
    "outputId": "59ce612a-19fe-49cf-fe09-8fe8904fb949"
   },
   "outputs": [
    {
     "data": {
      "text/plain": [
       "array([ 2,  1,  5,  3,  7,  6,  4,  8, 11])"
      ]
     },
     "execution_count": 24,
     "metadata": {},
     "output_type": "execute_result"
    }
   ],
   "source": [
    "combined.Family.unique()"
   ]
  },
  {
   "cell_type": "code",
   "execution_count": 25,
   "id": "fc915545",
   "metadata": {
    "colab": {
     "base_uri": "https://localhost:8080/"
    },
    "id": "fc915545",
    "outputId": "21b436c5-1f23-4efc-ab04-88886b430f0c"
   },
   "outputs": [
    {
     "data": {
      "text/plain": [
       "count    1309.000000\n",
       "mean        1.883881\n",
       "std         1.583639\n",
       "min         1.000000\n",
       "25%         1.000000\n",
       "50%         1.000000\n",
       "75%         2.000000\n",
       "max        11.000000\n",
       "Name: Family, dtype: float64"
      ]
     },
     "execution_count": 25,
     "metadata": {},
     "output_type": "execute_result"
    }
   ],
   "source": [
    "combined.Family.describe()"
   ]
  },
  {
   "cell_type": "code",
   "execution_count": 26,
   "id": "a1eaeede",
   "metadata": {
    "id": "a1eaeede"
   },
   "outputs": [],
   "source": [
    "def parivar(x):\n",
    "    if x==1:\n",
    "        return('Solo')\n",
    "    elif x==2:\n",
    "        return('Duo')\n",
    "    elif x<=4:\n",
    "        return('Small')\n",
    "    else:\n",
    "        return('Large')"
   ]
  },
  {
   "cell_type": "code",
   "execution_count": 27,
   "id": "ed56b1e9",
   "metadata": {
    "colab": {
     "base_uri": "https://localhost:8080/"
    },
    "id": "ed56b1e9",
    "outputId": "02914b10-bbd8-4e5c-ecec-07eefd6efe9a"
   },
   "outputs": [
    {
     "data": {
      "text/plain": [
       "array(['Duo', 'Solo', 'Large', 'Small'], dtype=object)"
      ]
     },
     "execution_count": 27,
     "metadata": {},
     "output_type": "execute_result"
    }
   ],
   "source": [
    "combined['Family'].apply(parivar).unique()"
   ]
  },
  {
   "cell_type": "code",
   "execution_count": 28,
   "id": "86a2a15f",
   "metadata": {
    "id": "86a2a15f"
   },
   "outputs": [],
   "source": [
    "combined['Family_Cat']=combined['Family'].apply(parivar)"
   ]
  },
  {
   "cell_type": "code",
   "execution_count": 29,
   "id": "db409d19",
   "metadata": {
    "colab": {
     "base_uri": "https://localhost:8080/",
     "height": 475
    },
    "id": "db409d19",
    "outputId": "77d2300e-dd11-4e73-ba51-981bc366fae2"
   },
   "outputs": [
    {
     "data": {
      "text/plain": [
       "<Axes: xlabel='Survived'>"
      ]
     },
     "execution_count": 29,
     "metadata": {},
     "output_type": "execute_result"
    },
    {
     "data": {
      "image/png": "[encoded data removed]",
      "text/plain": [
       "<Figure size 640x480 with 1 Axes>"
      ]
     },
     "metadata": {},
     "output_type": "display_data"
    }
   ],
   "source": [
    "pd.crosstab(combined.Survived,combined.Family_Cat).plot(kind='bar')"
   ]
  },
  {
   "cell_type": "markdown",
   "id": "0e55d70c",
   "metadata": {
    "id": "0e55d70c"
   },
   "source": [
    "### Missing Values"
   ]
  },
  {
   "cell_type": "code",
   "execution_count": 30,
   "id": "7916c1b0",
   "metadata": {
    "colab": {
     "base_uri": "https://localhost:8080/",
     "height": 269
    },
    "id": "7916c1b0",
    "outputId": "215e1784-fb00-4d55-bcf2-34c07da1da9b"
   },
   "outputs": [
    {
     "data": {
      "text/html": [
       "<div>\n",
       "<style scoped>\n",
       "    .dataframe tbody tr th:only-of-type {\n",
       "        vertical-align: middle;\n",
       "    }\n",
       "\n",
       "    .dataframe tbody tr th {\n",
       "        vertical-align: top;\n",
       "    }\n",
       "\n",
       "    .dataframe thead th {\n",
       "        text-align: right;\n",
       "    }\n",
       "</style>\n",
       "<table border=\"1\" class=\"dataframe\">\n",
       "  <thead>\n",
       "    <tr style=\"text-align: right;\">\n",
       "      <th></th>\n",
       "      <th>count</th>\n",
       "      <th>mean</th>\n",
       "      <th>std</th>\n",
       "      <th>min</th>\n",
       "      <th>25%</th>\n",
       "      <th>50%</th>\n",
       "      <th>75%</th>\n",
       "      <th>max</th>\n",
       "    </tr>\n",
       "    <tr>\n",
       "      <th>Titles</th>\n",
       "      <th></th>\n",
       "      <th></th>\n",
       "      <th></th>\n",
       "      <th></th>\n",
       "      <th></th>\n",
       "      <th></th>\n",
       "      <th></th>\n",
       "      <th></th>\n",
       "    </tr>\n",
       "  </thead>\n",
       "  <tbody>\n",
       "    <tr>\n",
       "      <th>Master</th>\n",
       "      <td>53.0</td>\n",
       "      <td>5.482642</td>\n",
       "      <td>4.161554</td>\n",
       "      <td>0.33</td>\n",
       "      <td>2.0</td>\n",
       "      <td>4.0</td>\n",
       "      <td>9.0</td>\n",
       "      <td>14.5</td>\n",
       "    </tr>\n",
       "    <tr>\n",
       "      <th>Miss</th>\n",
       "      <td>210.0</td>\n",
       "      <td>21.774238</td>\n",
       "      <td>12.249077</td>\n",
       "      <td>0.17</td>\n",
       "      <td>15.0</td>\n",
       "      <td>22.0</td>\n",
       "      <td>30.0</td>\n",
       "      <td>63.0</td>\n",
       "    </tr>\n",
       "    <tr>\n",
       "      <th>Mr</th>\n",
       "      <td>581.0</td>\n",
       "      <td>32.252151</td>\n",
       "      <td>12.422089</td>\n",
       "      <td>11.00</td>\n",
       "      <td>23.0</td>\n",
       "      <td>29.0</td>\n",
       "      <td>39.0</td>\n",
       "      <td>80.0</td>\n",
       "    </tr>\n",
       "    <tr>\n",
       "      <th>Mrs</th>\n",
       "      <td>170.0</td>\n",
       "      <td>36.994118</td>\n",
       "      <td>12.901767</td>\n",
       "      <td>14.00</td>\n",
       "      <td>27.0</td>\n",
       "      <td>35.5</td>\n",
       "      <td>46.5</td>\n",
       "      <td>76.0</td>\n",
       "    </tr>\n",
       "    <tr>\n",
       "      <th>Ms</th>\n",
       "      <td>1.0</td>\n",
       "      <td>28.000000</td>\n",
       "      <td>NaN</td>\n",
       "      <td>28.00</td>\n",
       "      <td>28.0</td>\n",
       "      <td>28.0</td>\n",
       "      <td>28.0</td>\n",
       "      <td>28.0</td>\n",
       "    </tr>\n",
       "    <tr>\n",
       "      <th>Others</th>\n",
       "      <td>31.0</td>\n",
       "      <td>43.129032</td>\n",
       "      <td>12.309189</td>\n",
       "      <td>23.00</td>\n",
       "      <td>32.5</td>\n",
       "      <td>45.0</td>\n",
       "      <td>52.5</td>\n",
       "      <td>70.0</td>\n",
       "    </tr>\n",
       "  </tbody>\n",
       "</table>\n",
       "</div>"
      ],
      "text/plain": [
       "        count       mean        std    min   25%   50%   75%   max\n",
       "Titles                                                            \n",
       "Master   53.0   5.482642   4.161554   0.33   2.0   4.0   9.0  14.5\n",
       "Miss    210.0  21.774238  12.249077   0.17  15.0  22.0  30.0  63.0\n",
       "Mr      581.0  32.252151  12.422089  11.00  23.0  29.0  39.0  80.0\n",
       "Mrs     170.0  36.994118  12.901767  14.00  27.0  35.5  46.5  76.0\n",
       "Ms        1.0  28.000000        NaN  28.00  28.0  28.0  28.0  28.0\n",
       "Others   31.0  43.129032  12.309189  23.00  32.5  45.0  52.5  70.0"
      ]
     },
     "execution_count": 30,
     "metadata": {},
     "output_type": "execute_result"
    }
   ],
   "source": [
    "combined.groupby('Titles')['Age'].describe()"
   ]
  },
  {
   "cell_type": "code",
   "execution_count": 31,
   "id": "7cd914f6",
   "metadata": {
    "colab": {
     "base_uri": "https://localhost:8080/"
    },
    "id": "7cd914f6",
    "outputId": "0b51e3a1-5f7c-4d50-c30a-58fec956c283"
   },
   "outputs": [
    {
     "data": {
      "text/plain": [
       "array(['Mr', 'Mrs', 'Miss', 'Master', 'Others', 'Ms'], dtype=object)"
      ]
     },
     "execution_count": 31,
     "metadata": {},
     "output_type": "execute_result"
    }
   ],
   "source": [
    "combined.loc[combined.Age.isnull(),'Titles'].unique()"
   ]
  },
  {
   "cell_type": "code",
   "execution_count": 32,
   "id": "65184ea2",
   "metadata": {
    "id": "65184ea2"
   },
   "outputs": [],
   "source": [
    "missing_titles=combined.loc[combined.Age.isnull(),'Titles'].unique()"
   ]
  },
  {
   "cell_type": "code",
   "execution_count": 33,
   "id": "3335d790",
   "metadata": {
    "id": "3335d790"
   },
   "outputs": [],
   "source": [
    "for i in missing_titles:\n",
    "    combined.loc[combined.Age.isnull(),'Age']=combined.loc[combined.Titles==i,'Age'].median()"
   ]
  },
  {
   "cell_type": "code",
   "execution_count": 34,
   "id": "98643529",
   "metadata": {
    "colab": {
     "base_uri": "https://localhost:8080/",
     "height": 35
    },
    "id": "98643529",
    "outputId": "d1fe905f-96c1-4fc5-e010-e50776d5fa44"
   },
   "outputs": [
    {
     "data": {
      "text/plain": [
       "'S'"
      ]
     },
     "execution_count": 34,
     "metadata": {},
     "output_type": "execute_result"
    }
   ],
   "source": [
    "combined.Embarked.mode()[0]"
   ]
  },
  {
   "cell_type": "code",
   "execution_count": 35,
   "id": "1442a862",
   "metadata": {
    "id": "1442a862"
   },
   "outputs": [],
   "source": [
    "combined.loc[combined.Embarked.isnull(),'Embarked']=combined.Embarked.mode()[0]"
   ]
  },
  {
   "cell_type": "code",
   "execution_count": 36,
   "id": "21d4090f",
   "metadata": {
    "id": "21d4090f"
   },
   "outputs": [],
   "source": [
    "combined.loc[combined.Fare.isnull(),'Fare']=combined.Fare.median()"
   ]
  },
  {
   "cell_type": "code",
   "execution_count": 37,
   "id": "acc7875d",
   "metadata": {
    "colab": {
     "base_uri": "https://localhost:8080/",
     "height": 206
    },
    "id": "acc7875d",
    "outputId": "a1891107-a11d-4380-b224-081ef0f56011"
   },
   "outputs": [
    {
     "data": {
      "text/html": [
       "<div>\n",
       "<style scoped>\n",
       "    .dataframe tbody tr th:only-of-type {\n",
       "        vertical-align: middle;\n",
       "    }\n",
       "\n",
       "    .dataframe tbody tr th {\n",
       "        vertical-align: top;\n",
       "    }\n",
       "\n",
       "    .dataframe thead th {\n",
       "        text-align: right;\n",
       "    }\n",
       "</style>\n",
       "<table border=\"1\" class=\"dataframe\">\n",
       "  <thead>\n",
       "    <tr style=\"text-align: right;\">\n",
       "      <th></th>\n",
       "      <th>Survived</th>\n",
       "      <th>Pclass</th>\n",
       "      <th>Sex</th>\n",
       "      <th>Age</th>\n",
       "      <th>SibSp</th>\n",
       "      <th>Parch</th>\n",
       "      <th>Fare</th>\n",
       "      <th>Embarked</th>\n",
       "      <th>Cabin_Cat</th>\n",
       "      <th>Titles</th>\n",
       "      <th>Family</th>\n",
       "      <th>Family_Cat</th>\n",
       "    </tr>\n",
       "  </thead>\n",
       "  <tbody>\n",
       "    <tr>\n",
       "      <th>0</th>\n",
       "      <td>0.0</td>\n",
       "      <td>3</td>\n",
       "      <td>male</td>\n",
       "      <td>22.0</td>\n",
       "      <td>1</td>\n",
       "      <td>0</td>\n",
       "      <td>7.2500</td>\n",
       "      <td>S</td>\n",
       "      <td>Missing</td>\n",
       "      <td>Mr</td>\n",
       "      <td>2</td>\n",
       "      <td>Duo</td>\n",
       "    </tr>\n",
       "    <tr>\n",
       "      <th>1</th>\n",
       "      <td>1.0</td>\n",
       "      <td>1</td>\n",
       "      <td>female</td>\n",
       "      <td>38.0</td>\n",
       "      <td>1</td>\n",
       "      <td>0</td>\n",
       "      <td>71.2833</td>\n",
       "      <td>C</td>\n",
       "      <td>Cabin_Avbl</td>\n",
       "      <td>Mrs</td>\n",
       "      <td>2</td>\n",
       "      <td>Duo</td>\n",
       "    </tr>\n",
       "    <tr>\n",
       "      <th>2</th>\n",
       "      <td>1.0</td>\n",
       "      <td>3</td>\n",
       "      <td>female</td>\n",
       "      <td>26.0</td>\n",
       "      <td>0</td>\n",
       "      <td>0</td>\n",
       "      <td>7.9250</td>\n",
       "      <td>S</td>\n",
       "      <td>Missing</td>\n",
       "      <td>Miss</td>\n",
       "      <td>1</td>\n",
       "      <td>Solo</td>\n",
       "    </tr>\n",
       "    <tr>\n",
       "      <th>3</th>\n",
       "      <td>1.0</td>\n",
       "      <td>1</td>\n",
       "      <td>female</td>\n",
       "      <td>35.0</td>\n",
       "      <td>1</td>\n",
       "      <td>0</td>\n",
       "      <td>53.1000</td>\n",
       "      <td>S</td>\n",
       "      <td>Cabin_Avbl</td>\n",
       "      <td>Mrs</td>\n",
       "      <td>2</td>\n",
       "      <td>Duo</td>\n",
       "    </tr>\n",
       "    <tr>\n",
       "      <th>4</th>\n",
       "      <td>0.0</td>\n",
       "      <td>3</td>\n",
       "      <td>male</td>\n",
       "      <td>35.0</td>\n",
       "      <td>0</td>\n",
       "      <td>0</td>\n",
       "      <td>8.0500</td>\n",
       "      <td>S</td>\n",
       "      <td>Missing</td>\n",
       "      <td>Mr</td>\n",
       "      <td>1</td>\n",
       "      <td>Solo</td>\n",
       "    </tr>\n",
       "  </tbody>\n",
       "</table>\n",
       "</div>"
      ],
      "text/plain": [
       "   Survived  Pclass     Sex   Age  SibSp  Parch     Fare Embarked   Cabin_Cat  \\\n",
       "0       0.0       3    male  22.0      1      0   7.2500        S     Missing   \n",
       "1       1.0       1  female  38.0      1      0  71.2833        C  Cabin_Avbl   \n",
       "2       1.0       3  female  26.0      0      0   7.9250        S     Missing   \n",
       "3       1.0       1  female  35.0      1      0  53.1000        S  Cabin_Avbl   \n",
       "4       0.0       3    male  35.0      0      0   8.0500        S     Missing   \n",
       "\n",
       "  Titles  Family Family_Cat  \n",
       "0     Mr       2        Duo  \n",
       "1    Mrs       2        Duo  \n",
       "2   Miss       1       Solo  \n",
       "3    Mrs       2        Duo  \n",
       "4     Mr       1       Solo  "
      ]
     },
     "execution_count": 37,
     "metadata": {},
     "output_type": "execute_result"
    }
   ],
   "source": [
    "combined.head()"
   ]
  },
  {
   "cell_type": "code",
   "execution_count": 38,
   "id": "305f2d4b",
   "metadata": {
    "colab": {
     "base_uri": "https://localhost:8080/"
    },
    "id": "305f2d4b",
    "outputId": "5e56376f-22de-4cae-a266-d2ab92f56133"
   },
   "outputs": [
    {
     "data": {
      "text/plain": [
       "((891, 12), (418, 12))"
      ]
     },
     "execution_count": 38,
     "metadata": {},
     "output_type": "execute_result"
    }
   ],
   "source": [
    "# Split the data back in train and test\n",
    "\n",
    "newtrain=combined.loc[0:train.shape[0]-1,]\n",
    "newtest=combined.loc[train.shape[0]:,]\n",
    "newtrain.shape,newtest.shape"
   ]
  },
  {
   "cell_type": "code",
   "execution_count": 39,
   "id": "94b109e7",
   "metadata": {
    "id": "94b109e7"
   },
   "outputs": [],
   "source": [
    "X=newtrain.drop(['Survived'],axis=1)\n",
    "y=newtrain.Survived.astype(int)\n",
    "\n",
    "newtest.drop(['Survived'],axis=1,inplace=True)"
   ]
  },
  {
   "cell_type": "markdown",
   "id": "212376db",
   "metadata": {
    "id": "212376db"
   },
   "source": [
    "### Model Building\n",
    "\n",
    "* Base Model - the first model in classification which is also known as Base model should be a prediction of 0\n"
   ]
  },
  {
   "cell_type": "code",
   "execution_count": 40,
   "id": "6713f144",
   "metadata": {
    "id": "6713f144"
   },
   "outputs": [],
   "source": [
    "submission=pd.DataFrame({'PassengerId':test.PassengerId,'Survived':0})\n",
    "\n",
    "submission.to_csv('basemodel.csv',index=False)"
   ]
  },
  {
   "cell_type": "code",
   "execution_count": 41,
   "id": "69d74feb",
   "metadata": {
    "colab": {
     "base_uri": "https://localhost:8080/"
    },
    "id": "69d74feb",
    "outputId": "1b588dc7-2f9b-40f9-d905-b3d59bf6519a"
   },
   "outputs": [
    {
     "name": "stdout",
     "output_type": "stream",
     "text": [
      "/Users/krishansmacbook\n"
     ]
    }
   ],
   "source": [
    "cd"
   ]
  },
  {
   "cell_type": "code",
   "execution_count": 42,
   "id": "84495824",
   "metadata": {
    "id": "84495824"
   },
   "outputs": [],
   "source": [
    "## dummyfy the data\n",
    "newX=pd.get_dummies(X,drop_first=True)\n",
    "newtest=pd.get_dummies(newtest,drop_first=True)"
   ]
  },
  {
   "cell_type": "code",
   "execution_count": 43,
   "id": "5d48c0b8",
   "metadata": {
    "id": "5d48c0b8"
   },
   "outputs": [],
   "source": [
    "from sklearn.linear_model import LogisticRegression\n",
    "\n"
   ]
  },
  {
   "cell_type": "code",
   "execution_count": 45,
   "id": "dc6ede1a",
   "metadata": {
    "id": "dc6ede1a"
   },
   "outputs": [],
   "source": [
    "lg=LogisticRegression()\n",
    "pred=lg.fit(newX,y).predict(newtest)"
   ]
  },
  {
   "cell_type": "code",
   "execution_count": 46,
   "id": "95c47e42",
   "metadata": {
    "id": "95c47e42"
   },
   "outputs": [],
   "source": [
    "submission=pd.DataFrame({'PassengerId':test.PassengerId,'Survived':pred})\n",
    "\n",
    "submission.to_csv('logistic_model.csv',index=False) #76.315"
   ]
  },
  {
   "cell_type": "code",
   "execution_count": 47,
   "id": "832c431c",
   "metadata": {
    "colab": {
     "base_uri": "https://localhost:8080/"
    },
    "id": "832c431c",
    "outputId": "a9cc10de-4c5c-402a-8291-c1a9738bec3d"
   },
   "outputs": [
    {
     "name": "stdout",
     "output_type": "stream",
     "text": [
      "/root\n"
     ]
    }
   ],
   "source": [
    "cd"
   ]
  },
  {
   "cell_type": "code",
   "execution_count": 48,
   "id": "e19ffe0f",
   "metadata": {
    "colab": {
     "base_uri": "https://localhost:8080/"
    },
    "id": "e19ffe0f",
    "outputId": "9f43bb17-de8d-441b-fbd1-ac0cb2688f6d"
   },
   "outputs": [
    {
     "name": "stdout",
     "output_type": "stream",
     "text": [
      "Warning: Maximum number of iterations has been exceeded.\n",
      "         Current function value: 0.397365\n",
      "         Iterations: 35\n"
     ]
    },
    {
     "name": "stderr",
     "output_type": "stream",
     "text": [
      "/usr/local/lib/python3.10/dist-packages/statsmodels/base/model.py:607: ConvergenceWarning: Maximum Likelihood optimization failed to converge. Check mle_retvals\n",
      "  warnings.warn(\"Maximum Likelihood optimization failed to \"\n"
     ]
    }
   ],
   "source": [
    "import statsmodels.api as sma\n",
    "\n",
    "model = sma.Logit(y,newX).fit()"
   ]
  },
  {
   "cell_type": "code",
   "execution_count": 49,
   "id": "9e49048f",
   "metadata": {
    "colab": {
     "base_uri": "https://localhost:8080/",
     "height": 594
    },
    "id": "9e49048f",
    "outputId": "60f57d96-7230-466f-ffc4-e10fccf87394"
   },
   "outputs": [
    {
     "data": {
      "text/html": [
       "<table class=\"simpletable\">\n",
       "<caption>Logit Regression Results</caption>\n",
       "<tr>\n",
       "  <th>Dep. Variable:</th>       <td>Survived</td>     <th>  No. Observations:  </th>  <td>   891</td>  \n",
       "</tr>\n",
       "<tr>\n",
       "  <th>Model:</th>                 <td>Logit</td>      <th>  Df Residuals:      </th>  <td>   873</td>  \n",
       "</tr>\n",
       "<tr>\n",
       "  <th>Method:</th>                 <td>MLE</td>       <th>  Df Model:          </th>  <td>    17</td>  \n",
       "</tr>\n",
       "<tr>\n",
       "  <th>Date:</th>            <td>Tue, 05 Dec 2023</td> <th>  Pseudo R-squ.:     </th>  <td>0.4033</td>  \n",
       "</tr>\n",
       "<tr>\n",
       "  <th>Time:</th>                <td>06:55:39</td>     <th>  Log-Likelihood:    </th> <td> -354.05</td> \n",
       "</tr>\n",
       "<tr>\n",
       "  <th>converged:</th>             <td>False</td>      <th>  LL-Null:           </th> <td> -593.33</td> \n",
       "</tr>\n",
       "<tr>\n",
       "  <th>Covariance Type:</th>     <td>nonrobust</td>    <th>  LLR p-value:       </th> <td>6.198e-91</td>\n",
       "</tr>\n",
       "</table>\n",
       "<table class=\"simpletable\">\n",
       "<tr>\n",
       "          <td></td>             <th>coef</th>     <th>std err</th>      <th>z</th>      <th>P>|z|</th>  <th>[0.025</th>    <th>0.975]</th>  \n",
       "</tr>\n",
       "<tr>\n",
       "  <th>Pclass</th>            <td>   -0.8026</td> <td>    0.187</td> <td>   -4.292</td> <td> 0.000</td> <td>   -1.169</td> <td>   -0.436</td>\n",
       "</tr>\n",
       "<tr>\n",
       "  <th>Age</th>               <td>   -0.0234</td> <td>    0.009</td> <td>   -2.505</td> <td> 0.012</td> <td>   -0.042</td> <td>   -0.005</td>\n",
       "</tr>\n",
       "<tr>\n",
       "  <th>SibSp</th>             <td>  -31.3068</td> <td> 2.14e+05</td> <td>   -0.000</td> <td> 1.000</td> <td>-4.19e+05</td> <td> 4.19e+05</td>\n",
       "</tr>\n",
       "<tr>\n",
       "  <th>Parch</th>             <td>  -31.1991</td> <td> 2.14e+05</td> <td>   -0.000</td> <td> 1.000</td> <td>-4.19e+05</td> <td> 4.19e+05</td>\n",
       "</tr>\n",
       "<tr>\n",
       "  <th>Fare</th>              <td>    0.0034</td> <td>    0.003</td> <td>    1.314</td> <td> 0.189</td> <td>   -0.002</td> <td>    0.009</td>\n",
       "</tr>\n",
       "<tr>\n",
       "  <th>Family</th>            <td>   31.2270</td> <td> 2.14e+05</td> <td>    0.000</td> <td> 1.000</td> <td>-4.19e+05</td> <td> 4.19e+05</td>\n",
       "</tr>\n",
       "<tr>\n",
       "  <th>Sex_male</th>          <td>  -26.4820</td> <td> 2.14e+05</td> <td>   -0.000</td> <td> 1.000</td> <td>-4.19e+05</td> <td> 4.19e+05</td>\n",
       "</tr>\n",
       "<tr>\n",
       "  <th>Embarked_Q</th>        <td>    0.0330</td> <td>    0.401</td> <td>    0.082</td> <td> 0.935</td> <td>   -0.754</td> <td>    0.819</td>\n",
       "</tr>\n",
       "<tr>\n",
       "  <th>Embarked_S</th>        <td>   -0.3189</td> <td>    0.254</td> <td>   -1.256</td> <td> 0.209</td> <td>   -0.816</td> <td>    0.179</td>\n",
       "</tr>\n",
       "<tr>\n",
       "  <th>Cabin_Cat_Missing</th> <td>   -0.6404</td> <td>    0.322</td> <td>   -1.991</td> <td> 0.047</td> <td>   -1.271</td> <td>   -0.010</td>\n",
       "</tr>\n",
       "<tr>\n",
       "  <th>Titles_Miss</th>       <td>  -27.1476</td> <td> 2.14e+05</td> <td>   -0.000</td> <td> 1.000</td> <td>-4.19e+05</td> <td> 4.19e+05</td>\n",
       "</tr>\n",
       "<tr>\n",
       "  <th>Titles_Mr</th>         <td>   -3.5874</td> <td>    0.598</td> <td>   -6.003</td> <td> 0.000</td> <td>   -4.759</td> <td>   -2.416</td>\n",
       "</tr>\n",
       "<tr>\n",
       "  <th>Titles_Mrs</th>        <td>  -26.4678</td> <td> 2.14e+05</td> <td>   -0.000</td> <td> 1.000</td> <td>-4.19e+05</td> <td> 4.19e+05</td>\n",
       "</tr>\n",
       "<tr>\n",
       "  <th>Titles_Ms</th>         <td>   -4.1434</td> <td> 2.85e+05</td> <td>-1.45e-05</td> <td> 1.000</td> <td>-5.58e+05</td> <td> 5.58e+05</td>\n",
       "</tr>\n",
       "<tr>\n",
       "  <th>Titles_Others</th>     <td>   -3.5582</td> <td>    0.824</td> <td>   -4.316</td> <td> 0.000</td> <td>   -5.174</td> <td>   -1.942</td>\n",
       "</tr>\n",
       "<tr>\n",
       "  <th>Family_Cat_Large</th>  <td>   -2.5015</td> <td>    1.291</td> <td>   -1.937</td> <td> 0.053</td> <td>   -5.032</td> <td>    0.029</td>\n",
       "</tr>\n",
       "<tr>\n",
       "  <th>Family_Cat_Small</th>  <td>    0.1452</td> <td>    0.500</td> <td>    0.291</td> <td> 0.771</td> <td>   -0.834</td> <td>    1.125</td>\n",
       "</tr>\n",
       "<tr>\n",
       "  <th>Family_Cat_Solo</th>   <td>    0.3804</td> <td>    0.391</td> <td>    0.972</td> <td> 0.331</td> <td>   -0.387</td> <td>    1.148</td>\n",
       "</tr>\n",
       "</table>"
      ],
      "text/latex": [
       "\\begin{center}\n",
       "\\begin{tabular}{lclc}\n",
       "\\toprule\n",
       "\\textbf{Dep. Variable:}      &     Survived     & \\textbf{  No. Observations:  } &      891    \\\\\n",
       "\\textbf{Model:}              &      Logit       & \\textbf{  Df Residuals:      } &      873    \\\\\n",
       "\\textbf{Method:}             &       MLE        & \\textbf{  Df Model:          } &       17    \\\\\n",
       "\\textbf{Date:}               & Tue, 05 Dec 2023 & \\textbf{  Pseudo R-squ.:     } &   0.4033    \\\\\n",
       "\\textbf{Time:}               &     06:55:39     & \\textbf{  Log-Likelihood:    } &   -354.05   \\\\\n",
       "\\textbf{converged:}          &      False       & \\textbf{  LL-Null:           } &   -593.33   \\\\\n",
       "\\textbf{Covariance Type:}    &    nonrobust     & \\textbf{  LLR p-value:       } & 6.198e-91   \\\\\n",
       "\\bottomrule\n",
       "\\end{tabular}\n",
       "\\begin{tabular}{lcccccc}\n",
       "                             & \\textbf{coef} & \\textbf{std err} & \\textbf{z} & \\textbf{P$> |$z$|$} & \\textbf{[0.025} & \\textbf{0.975]}  \\\\\n",
       "\\midrule\n",
       "\\textbf{Pclass}              &      -0.8026  &        0.187     &    -4.292  &         0.000        &       -1.169    &       -0.436     \\\\\n",
       "\\textbf{Age}                 &      -0.0234  &        0.009     &    -2.505  &         0.012        &       -0.042    &       -0.005     \\\\\n",
       "\\textbf{SibSp}               &     -31.3068  &     2.14e+05     &    -0.000  &         1.000        &    -4.19e+05    &     4.19e+05     \\\\\n",
       "\\textbf{Parch}               &     -31.1991  &     2.14e+05     &    -0.000  &         1.000        &    -4.19e+05    &     4.19e+05     \\\\\n",
       "\\textbf{Fare}                &       0.0034  &        0.003     &     1.314  &         0.189        &       -0.002    &        0.009     \\\\\n",
       "\\textbf{Family}              &      31.2270  &     2.14e+05     &     0.000  &         1.000        &    -4.19e+05    &     4.19e+05     \\\\\n",
       "\\textbf{Sex\\_male}           &     -26.4820  &     2.14e+05     &    -0.000  &         1.000        &    -4.19e+05    &     4.19e+05     \\\\\n",
       "\\textbf{Embarked\\_Q}         &       0.0330  &        0.401     &     0.082  &         0.935        &       -0.754    &        0.819     \\\\\n",
       "\\textbf{Embarked\\_S}         &      -0.3189  &        0.254     &    -1.256  &         0.209        &       -0.816    &        0.179     \\\\\n",
       "\\textbf{Cabin\\_Cat\\_Missing} &      -0.6404  &        0.322     &    -1.991  &         0.047        &       -1.271    &       -0.010     \\\\\n",
       "\\textbf{Titles\\_Miss}        &     -27.1476  &     2.14e+05     &    -0.000  &         1.000        &    -4.19e+05    &     4.19e+05     \\\\\n",
       "\\textbf{Titles\\_Mr}          &      -3.5874  &        0.598     &    -6.003  &         0.000        &       -4.759    &       -2.416     \\\\\n",
       "\\textbf{Titles\\_Mrs}         &     -26.4678  &     2.14e+05     &    -0.000  &         1.000        &    -4.19e+05    &     4.19e+05     \\\\\n",
       "\\textbf{Titles\\_Ms}          &      -4.1434  &     2.85e+05     & -1.45e-05  &         1.000        &    -5.58e+05    &     5.58e+05     \\\\\n",
       "\\textbf{Titles\\_Others}      &      -3.5582  &        0.824     &    -4.316  &         0.000        &       -5.174    &       -1.942     \\\\\n",
       "\\textbf{Family\\_Cat\\_Large}  &      -2.5015  &        1.291     &    -1.937  &         0.053        &       -5.032    &        0.029     \\\\\n",
       "\\textbf{Family\\_Cat\\_Small}  &       0.1452  &        0.500     &     0.291  &         0.771        &       -0.834    &        1.125     \\\\\n",
       "\\textbf{Family\\_Cat\\_Solo}   &       0.3804  &        0.391     &     0.972  &         0.331        &       -0.387    &        1.148     \\\\\n",
       "\\bottomrule\n",
       "\\end{tabular}\n",
       "%\\caption{Logit Regression Results}\n",
       "\\end{center}"
      ],
      "text/plain": [
       "<class 'statsmodels.iolib.summary.Summary'>\n",
       "\"\"\"\n",
       "                           Logit Regression Results                           \n",
       "==============================================================================\n",
       "Dep. Variable:               Survived   No. Observations:                  891\n",
       "Model:                          Logit   Df Residuals:                      873\n",
       "Method:                           MLE   Df Model:                           17\n",
       "Date:                Tue, 05 Dec 2023   Pseudo R-squ.:                  0.4033\n",
       "Time:                        06:55:39   Log-Likelihood:                -354.05\n",
       "converged:                      False   LL-Null:                       -593.33\n",
       "Covariance Type:            nonrobust   LLR p-value:                 6.198e-91\n",
       "=====================================================================================\n",
       "                        coef    std err          z      P>|z|      [0.025      0.975]\n",
       "-------------------------------------------------------------------------------------\n",
       "Pclass               -0.8026      0.187     -4.292      0.000      -1.169      -0.436\n",
       "Age                  -0.0234      0.009     -2.505      0.012      -0.042      -0.005\n",
       "SibSp               -31.3068   2.14e+05     -0.000      1.000   -4.19e+05    4.19e+05\n",
       "Parch               -31.1991   2.14e+05     -0.000      1.000   -4.19e+05    4.19e+05\n",
       "Fare                  0.0034      0.003      1.314      0.189      -0.002       0.009\n",
       "Family               31.2270   2.14e+05      0.000      1.000   -4.19e+05    4.19e+05\n",
       "Sex_male            -26.4820   2.14e+05     -0.000      1.000   -4.19e+05    4.19e+05\n",
       "Embarked_Q            0.0330      0.401      0.082      0.935      -0.754       0.819\n",
       "Embarked_S           -0.3189      0.254     -1.256      0.209      -0.816       0.179\n",
       "Cabin_Cat_Missing    -0.6404      0.322     -1.991      0.047      -1.271      -0.010\n",
       "Titles_Miss         -27.1476   2.14e+05     -0.000      1.000   -4.19e+05    4.19e+05\n",
       "Titles_Mr            -3.5874      0.598     -6.003      0.000      -4.759      -2.416\n",
       "Titles_Mrs          -26.4678   2.14e+05     -0.000      1.000   -4.19e+05    4.19e+05\n",
       "Titles_Ms            -4.1434   2.85e+05  -1.45e-05      1.000   -5.58e+05    5.58e+05\n",
       "Titles_Others        -3.5582      0.824     -4.316      0.000      -5.174      -1.942\n",
       "Family_Cat_Large     -2.5015      1.291     -1.937      0.053      -5.032       0.029\n",
       "Family_Cat_Small      0.1452      0.500      0.291      0.771      -0.834       1.125\n",
       "Family_Cat_Solo       0.3804      0.391      0.972      0.331      -0.387       1.148\n",
       "=====================================================================================\n",
       "\"\"\""
      ]
     },
     "execution_count": 49,
     "metadata": {},
     "output_type": "execute_result"
    }
   ],
   "source": [
    "model.summary()"
   ]
  },
  {
   "cell_type": "markdown",
   "id": "23d54206",
   "metadata": {
    "id": "23d54206"
   },
   "source": [
    "### Basic Infrance on the Output\n",
    "\n",
    "* There are lot of features which have a very high PValue which indicates that the features are statistically insignificant.\n",
    "\n",
    "* This also indicates that there is lot of multicollinearity between the categorical predictors\n",
    "    \n",
    "* Warning also suggests that the model is not a good model because mle could not help coverge the sigmod curve"
   ]
  },
  {
   "cell_type": "code",
   "execution_count": 50,
   "id": "6e32af59",
   "metadata": {
    "id": "6e32af59"
   },
   "outputs": [],
   "source": [
    "# Vif for multicolinearty check....\n",
    "from statsmodels.stats.outliers_influence import \\\n",
    "variance_inflation_factor\n",
    "\n",
    "vif = []\n",
    "for i in range(newX.shape[1]):\n",
    "    vif.append(variance_inflation_factor(newX.values,i))\n"
   ]
  },
  {
   "cell_type": "code",
   "execution_count": 51,
   "id": "62b31233",
   "metadata": {
    "colab": {
     "base_uri": "https://localhost:8080/",
     "height": 614
    },
    "id": "62b31233",
    "outputId": "bf2b5a94-a145-48f8-f5d9-3ce7baf36907"
   },
   "outputs": [
    {
     "data": {
      "text/html": [
       "\n",
       "  <div id=\"df-28f4b948-5058-416b-be00-45f25c7386f0\" class=\"colab-df-container\">\n",
       "    <div>\n",
       "<style scoped>\n",
       "    .dataframe tbody tr th:only-of-type {\n",
       "        vertical-align: middle;\n",
       "    }\n",
       "\n",
       "    .dataframe tbody tr th {\n",
       "        vertical-align: top;\n",
       "    }\n",
       "\n",
       "    .dataframe thead th {\n",
       "        text-align: right;\n",
       "    }\n",
       "</style>\n",
       "<table border=\"1\" class=\"dataframe\">\n",
       "  <thead>\n",
       "    <tr style=\"text-align: right;\">\n",
       "      <th></th>\n",
       "      <th>Value</th>\n",
       "    </tr>\n",
       "  </thead>\n",
       "  <tbody>\n",
       "    <tr>\n",
       "      <th>Family</th>\n",
       "      <td>1541.844876</td>\n",
       "    </tr>\n",
       "    <tr>\n",
       "      <th>SibSp</th>\n",
       "      <td>386.127423</td>\n",
       "    </tr>\n",
       "    <tr>\n",
       "      <th>Parch</th>\n",
       "      <td>208.163779</td>\n",
       "    </tr>\n",
       "    <tr>\n",
       "      <th>Sex_male</th>\n",
       "      <td>45.570269</td>\n",
       "    </tr>\n",
       "    <tr>\n",
       "      <th>Titles_Miss</th>\n",
       "      <td>38.104557</td>\n",
       "    </tr>\n",
       "    <tr>\n",
       "      <th>Titles_Mrs</th>\n",
       "      <td>29.624656</td>\n",
       "    </tr>\n",
       "    <tr>\n",
       "      <th>Titles_Mr</th>\n",
       "      <td>8.477798</td>\n",
       "    </tr>\n",
       "    <tr>\n",
       "      <th>Family_Cat_Large</th>\n",
       "      <td>8.368818</td>\n",
       "    </tr>\n",
       "    <tr>\n",
       "      <th>Family_Cat_Solo</th>\n",
       "      <td>3.209859</td>\n",
       "    </tr>\n",
       "    <tr>\n",
       "      <th>Family_Cat_Small</th>\n",
       "      <td>2.982278</td>\n",
       "    </tr>\n",
       "    <tr>\n",
       "      <th>Pclass</th>\n",
       "      <td>2.887608</td>\n",
       "    </tr>\n",
       "    <tr>\n",
       "      <th>Titles_Others</th>\n",
       "      <td>2.375225</td>\n",
       "    </tr>\n",
       "    <tr>\n",
       "      <th>Cabin_Cat_Missing</th>\n",
       "      <td>2.228914</td>\n",
       "    </tr>\n",
       "    <tr>\n",
       "      <th>Fare</th>\n",
       "      <td>1.716397</td>\n",
       "    </tr>\n",
       "    <tr>\n",
       "      <th>Age</th>\n",
       "      <td>1.564016</td>\n",
       "    </tr>\n",
       "    <tr>\n",
       "      <th>Embarked_Q</th>\n",
       "      <td>1.546592</td>\n",
       "    </tr>\n",
       "    <tr>\n",
       "      <th>Embarked_S</th>\n",
       "      <td>1.495120</td>\n",
       "    </tr>\n",
       "    <tr>\n",
       "      <th>Titles_Ms</th>\n",
       "      <td>1.269940</td>\n",
       "    </tr>\n",
       "  </tbody>\n",
       "</table>\n",
       "</div>\n",
       "    <div class=\"colab-df-buttons\">\n",
       "\n",
       "  <div class=\"colab-df-container\">\n",
       "    <button class=\"colab-df-convert\" onclick=\"convertToInteractive('df-28f4b948-5058-416b-be00-45f25c7386f0')\"\n",
       "            title=\"Convert this dataframe to an interactive table.\"\n",
       "            style=\"display:none;\">\n",
       "\n",
       "  <svg xmlns=\"http://www.w3.org/2000/svg\" height=\"24px\" viewBox=\"0 -960 960 960\">\n",
       "    <path d=\"M120-120v-720h720v720H120Zm60-500h600v-160H180v160Zm220 220h160v-160H400v160Zm0 220h160v-160H400v160ZM180-400h160v-160H180v160Zm440 0h160v-160H620v160ZM180-180h160v-160H180v160Zm440 0h160v-160H620v160Z\"/>\n",
       "  </svg>\n",
       "    </button>\n",
       "\n",
       "  <style>\n",
       "    .colab-df-container {\n",
       "      display:flex;\n",
       "      gap: 12px;\n",
       "    }\n",
       "\n",
       "    .colab-df-convert {\n",
       "      background-color: #E8F0FE;\n",
       "      border: none;\n",
       "      border-radius: 50%;\n",
       "      cursor: pointer;\n",
       "      display: none;\n",
       "      fill: #1967D2;\n",
       "      height: 32px;\n",
       "      padding: 0 0 0 0;\n",
       "      width: 32px;\n",
       "    }\n",
       "\n",
       "    .colab-df-convert:hover {\n",
       "      background-color: #E2EBFA;\n",
       "      box-shadow: 0px 1px 2px rgba(60, 64, 67, 0.3), 0px 1px 3px 1px rgba(60, 64, 67, 0.15);\n",
       "      fill: #174EA6;\n",
       "    }\n",
       "\n",
       "    .colab-df-buttons div {\n",
       "      margin-bottom: 4px;\n",
       "    }\n",
       "\n",
       "    [theme=dark] .colab-df-convert {\n",
       "      background-color: #3B4455;\n",
       "      fill: #D2E3FC;\n",
       "    }\n",
       "\n",
       "    [theme=dark] .colab-df-convert:hover {\n",
       "      background-color: #434B5C;\n",
       "      box-shadow: 0px 1px 3px 1px rgba(0, 0, 0, 0.15);\n",
       "      filter: drop-shadow(0px 1px 2px rgba(0, 0, 0, 0.3));\n",
       "      fill: #FFFFFF;\n",
       "    }\n",
       "  </style>\n",
       "\n",
       "    <script>\n",
       "      const buttonEl =\n",
       "        document.querySelector('#df-28f4b948-5058-416b-be00-45f25c7386f0 button.colab-df-convert');\n",
       "      buttonEl.style.display =\n",
       "        google.colab.kernel.accessAllowed ? 'block' : 'none';\n",
       "\n",
       "      async function convertToInteractive(key) {\n",
       "        const element = document.querySelector('#df-28f4b948-5058-416b-be00-45f25c7386f0');\n",
       "        const dataTable =\n",
       "          await google.colab.kernel.invokeFunction('convertToInteractive',\n",
       "                                                    [key], {});\n",
       "        if (!dataTable) return;\n",
       "\n",
       "        const docLinkHtml = 'Like what you see? Visit the ' +\n",
       "          '<a target=\"_blank\" href=https://colab.research.google.com/notebooks/data_table.ipynb>data table notebook</a>'\n",
       "          + ' to learn more about interactive tables.';\n",
       "        element.innerHTML = '';\n",
       "        dataTable['output_type'] = 'display_data';\n",
       "        await google.colab.output.renderOutput(dataTable, element);\n",
       "        const docLink = document.createElement('div');\n",
       "        docLink.innerHTML = docLinkHtml;\n",
       "        element.appendChild(docLink);\n",
       "      }\n",
       "    </script>\n",
       "  </div>\n",
       "\n",
       "\n",
       "<div id=\"df-94185c7d-78de-4492-9bdb-e55900df1683\">\n",
       "  <button class=\"colab-df-quickchart\" onclick=\"quickchart('df-94185c7d-78de-4492-9bdb-e55900df1683')\"\n",
       "            title=\"Suggest charts\"\n",
       "            style=\"display:none;\">\n",
       "\n",
       "<svg xmlns=\"http://www.w3.org/2000/svg\" height=\"24px\"viewBox=\"0 0 24 24\"\n",
       "     width=\"24px\">\n",
       "    <g>\n",
       "        <path d=\"M19 3H5c-1.1 0-2 .9-2 2v14c0 1.1.9 2 2 2h14c1.1 0 2-.9 2-2V5c0-1.1-.9-2-2-2zM9 17H7v-7h2v7zm4 0h-2V7h2v10zm4 0h-2v-4h2v4z\"/>\n",
       "    </g>\n",
       "</svg>\n",
       "  </button>\n",
       "\n",
       "<style>\n",
       "  .colab-df-quickchart {\n",
       "      --bg-color: #E8F0FE;\n",
       "      --fill-color: #1967D2;\n",
       "      --hover-bg-color: #E2EBFA;\n",
       "      --hover-fill-color: #174EA6;\n",
       "      --disabled-fill-color: #AAA;\n",
       "      --disabled-bg-color: #DDD;\n",
       "  }\n",
       "\n",
       "  [theme=dark] .colab-df-quickchart {\n",
       "      --bg-color: #3B4455;\n",
       "      --fill-color: #D2E3FC;\n",
       "      --hover-bg-color: #434B5C;\n",
       "      --hover-fill-color: #FFFFFF;\n",
       "      --disabled-bg-color: #3B4455;\n",
       "      --disabled-fill-color: #666;\n",
       "  }\n",
       "\n",
       "  .colab-df-quickchart {\n",
       "    background-color: var(--bg-color);\n",
       "    border: none;\n",
       "    border-radius: 50%;\n",
       "    cursor: pointer;\n",
       "    display: none;\n",
       "    fill: var(--fill-color);\n",
       "    height: 32px;\n",
       "    padding: 0;\n",
       "    width: 32px;\n",
       "  }\n",
       "\n",
       "  .colab-df-quickchart:hover {\n",
       "    background-color: var(--hover-bg-color);\n",
       "    box-shadow: 0 1px 2px rgba(60, 64, 67, 0.3), 0 1px 3px 1px rgba(60, 64, 67, 0.15);\n",
       "    fill: var(--button-hover-fill-color);\n",
       "  }\n",
       "\n",
       "  .colab-df-quickchart-complete:disabled,\n",
       "  .colab-df-quickchart-complete:disabled:hover {\n",
       "    background-color: var(--disabled-bg-color);\n",
       "    fill: var(--disabled-fill-color);\n",
       "    box-shadow: none;\n",
       "  }\n",
       "\n",
       "  .colab-df-spinner {\n",
       "    border: 2px solid var(--fill-color);\n",
       "    border-color: transparent;\n",
       "    border-bottom-color: var(--fill-color);\n",
       "    animation:\n",
       "      spin 1s steps(1) infinite;\n",
       "  }\n",
       "\n",
       "  @keyframes spin {\n",
       "    0% {\n",
       "      border-color: transparent;\n",
       "      border-bottom-color: var(--fill-color);\n",
       "      border-left-color: var(--fill-color);\n",
       "    }\n",
       "    20% {\n",
       "      border-color: transparent;\n",
       "      border-left-color: var(--fill-color);\n",
       "      border-top-color: var(--fill-color);\n",
       "    }\n",
       "    30% {\n",
       "      border-color: transparent;\n",
       "      border-left-color: var(--fill-color);\n",
       "      border-top-color: var(--fill-color);\n",
       "      border-right-color: var(--fill-color);\n",
       "    }\n",
       "    40% {\n",
       "      border-color: transparent;\n",
       "      border-right-color: var(--fill-color);\n",
       "      border-top-color: var(--fill-color);\n",
       "    }\n",
       "    60% {\n",
       "      border-color: transparent;\n",
       "      border-right-color: var(--fill-color);\n",
       "    }\n",
       "    80% {\n",
       "      border-color: transparent;\n",
       "      border-right-color: var(--fill-color);\n",
       "      border-bottom-color: var(--fill-color);\n",
       "    }\n",
       "    90% {\n",
       "      border-color: transparent;\n",
       "      border-bottom-color: var(--fill-color);\n",
       "    }\n",
       "  }\n",
       "</style>\n",
       "\n",
       "  <script>\n",
       "    async function quickchart(key) {\n",
       "      const quickchartButtonEl =\n",
       "        document.querySelector('#' + key + ' button');\n",
       "      quickchartButtonEl.disabled = true;  // To prevent multiple clicks.\n",
       "      quickchartButtonEl.classList.add('colab-df-spinner');\n",
       "      try {\n",
       "        const charts = await google.colab.kernel.invokeFunction(\n",
       "            'suggestCharts', [key], {});\n",
       "      } catch (error) {\n",
       "        console.error('Error during call to suggestCharts:', error);\n",
       "      }\n",
       "      quickchartButtonEl.classList.remove('colab-df-spinner');\n",
       "      quickchartButtonEl.classList.add('colab-df-quickchart-complete');\n",
       "    }\n",
       "    (() => {\n",
       "      let quickchartButtonEl =\n",
       "        document.querySelector('#df-94185c7d-78de-4492-9bdb-e55900df1683 button');\n",
       "      quickchartButtonEl.style.display =\n",
       "        google.colab.kernel.accessAllowed ? 'block' : 'none';\n",
       "    })();\n",
       "  </script>\n",
       "</div>\n",
       "    </div>\n",
       "  </div>\n"
      ],
      "text/plain": [
       "                         Value\n",
       "Family             1541.844876\n",
       "SibSp               386.127423\n",
       "Parch               208.163779\n",
       "Sex_male             45.570269\n",
       "Titles_Miss          38.104557\n",
       "Titles_Mrs           29.624656\n",
       "Titles_Mr             8.477798\n",
       "Family_Cat_Large      8.368818\n",
       "Family_Cat_Solo       3.209859\n",
       "Family_Cat_Small      2.982278\n",
       "Pclass                2.887608\n",
       "Titles_Others         2.375225\n",
       "Cabin_Cat_Missing     2.228914\n",
       "Fare                  1.716397\n",
       "Age                   1.564016\n",
       "Embarked_Q            1.546592\n",
       "Embarked_S            1.495120\n",
       "Titles_Ms             1.269940"
      ]
     },
     "execution_count": 51,
     "metadata": {},
     "output_type": "execute_result"
    }
   ],
   "source": [
    "pd.DataFrame(vif,columns=[\"Value\"],index=newX.columns).sort_values(ascending=False,by='Value')"
   ]
  },
  {
   "cell_type": "code",
   "execution_count": 52,
   "id": "f10e7bb2",
   "metadata": {
    "id": "f10e7bb2"
   },
   "outputs": [],
   "source": [
    "# SIPSB,PARCH Title_MR\n",
    "\n",
    "subset = newX.drop([\"SibSp\",\"Parch\",\"Sex_male\"],axis=1)"
   ]
  },
  {
   "cell_type": "code",
   "execution_count": 53,
   "id": "c4af54cd",
   "metadata": {
    "colab": {
     "base_uri": "https://localhost:8080/",
     "height": 639
    },
    "id": "c4af54cd",
    "outputId": "bb167e49-2839-4a86-d52a-20b161f03180"
   },
   "outputs": [
    {
     "name": "stdout",
     "output_type": "stream",
     "text": [
      "Warning: Maximum number of iterations has been exceeded.\n",
      "         Current function value: 0.421190\n",
      "         Iterations: 35\n"
     ]
    },
    {
     "name": "stderr",
     "output_type": "stream",
     "text": [
      "/usr/local/lib/python3.10/dist-packages/statsmodels/base/model.py:607: ConvergenceWarning: Maximum Likelihood optimization failed to converge. Check mle_retvals\n",
      "  warnings.warn(\"Maximum Likelihood optimization failed to \"\n"
     ]
    },
    {
     "data": {
      "text/html": [
       "<table class=\"simpletable\">\n",
       "<caption>Logit Regression Results</caption>\n",
       "<tr>\n",
       "  <th>Dep. Variable:</th>       <td>Survived</td>     <th>  No. Observations:  </th>  <td>   891</td>  \n",
       "</tr>\n",
       "<tr>\n",
       "  <th>Model:</th>                 <td>Logit</td>      <th>  Df Residuals:      </th>  <td>   876</td>  \n",
       "</tr>\n",
       "<tr>\n",
       "  <th>Method:</th>                 <td>MLE</td>       <th>  Df Model:          </th>  <td>    14</td>  \n",
       "</tr>\n",
       "<tr>\n",
       "  <th>Date:</th>            <td>Tue, 05 Dec 2023</td> <th>  Pseudo R-squ.:     </th>  <td>0.3675</td>  \n",
       "</tr>\n",
       "<tr>\n",
       "  <th>Time:</th>                <td>06:55:40</td>     <th>  Log-Likelihood:    </th> <td> -375.28</td> \n",
       "</tr>\n",
       "<tr>\n",
       "  <th>converged:</th>             <td>False</td>      <th>  LL-Null:           </th> <td> -593.33</td> \n",
       "</tr>\n",
       "<tr>\n",
       "  <th>Covariance Type:</th>     <td>nonrobust</td>    <th>  LLR p-value:       </th> <td>3.084e-84</td>\n",
       "</tr>\n",
       "</table>\n",
       "<table class=\"simpletable\">\n",
       "<tr>\n",
       "          <td></td>             <th>coef</th>     <th>std err</th>      <th>z</th>      <th>P>|z|</th>  <th>[0.025</th>    <th>0.975]</th>  \n",
       "</tr>\n",
       "<tr>\n",
       "  <th>Pclass</th>            <td>   -0.2969</td> <td>    0.168</td> <td>   -1.773</td> <td> 0.076</td> <td>   -0.625</td> <td>    0.031</td>\n",
       "</tr>\n",
       "<tr>\n",
       "  <th>Age</th>               <td>   -0.0131</td> <td>    0.009</td> <td>   -1.504</td> <td> 0.133</td> <td>   -0.030</td> <td>    0.004</td>\n",
       "</tr>\n",
       "<tr>\n",
       "  <th>Fare</th>              <td>    0.0097</td> <td>    0.003</td> <td>    3.240</td> <td> 0.001</td> <td>    0.004</td> <td>    0.016</td>\n",
       "</tr>\n",
       "<tr>\n",
       "  <th>Family</th>            <td>    0.5728</td> <td>    0.170</td> <td>    3.372</td> <td> 0.001</td> <td>    0.240</td> <td>    0.906</td>\n",
       "</tr>\n",
       "<tr>\n",
       "  <th>Embarked_Q</th>        <td>    0.1156</td> <td>    0.394</td> <td>    0.293</td> <td> 0.769</td> <td>   -0.657</td> <td>    0.888</td>\n",
       "</tr>\n",
       "<tr>\n",
       "  <th>Embarked_S</th>        <td>   -0.0706</td> <td>    0.241</td> <td>   -0.293</td> <td> 0.769</td> <td>   -0.542</td> <td>    0.401</td>\n",
       "</tr>\n",
       "<tr>\n",
       "  <th>Cabin_Cat_Missing</th> <td>   -0.7748</td> <td>    0.314</td> <td>   -2.468</td> <td> 0.014</td> <td>   -1.390</td> <td>   -0.159</td>\n",
       "</tr>\n",
       "<tr>\n",
       "  <th>Titles_Miss</th>       <td>    0.8299</td> <td>    0.449</td> <td>    1.847</td> <td> 0.065</td> <td>   -0.051</td> <td>    1.711</td>\n",
       "</tr>\n",
       "<tr>\n",
       "  <th>Titles_Mr</th>         <td>   -1.9628</td> <td>    0.468</td> <td>   -4.195</td> <td> 0.000</td> <td>   -2.880</td> <td>   -1.046</td>\n",
       "</tr>\n",
       "<tr>\n",
       "  <th>Titles_Mrs</th>        <td>    1.5941</td> <td>    0.507</td> <td>    3.145</td> <td> 0.002</td> <td>    0.601</td> <td>    2.587</td>\n",
       "</tr>\n",
       "<tr>\n",
       "  <th>Titles_Ms</th>         <td>   21.3221</td> <td> 4.64e+04</td> <td>    0.000</td> <td> 1.000</td> <td>-9.09e+04</td> <td> 9.09e+04</td>\n",
       "</tr>\n",
       "<tr>\n",
       "  <th>Titles_Others</th>     <td>   -1.0974</td> <td>    0.632</td> <td>   -1.736</td> <td> 0.082</td> <td>   -2.336</td> <td>    0.141</td>\n",
       "</tr>\n",
       "<tr>\n",
       "  <th>Family_Cat_Large</th>  <td>   -5.0538</td> <td>    1.047</td> <td>   -4.825</td> <td> 0.000</td> <td>   -7.107</td> <td>   -3.001</td>\n",
       "</tr>\n",
       "<tr>\n",
       "  <th>Family_Cat_Small</th>  <td>   -0.0480</td> <td>    0.396</td> <td>   -0.121</td> <td> 0.903</td> <td>   -0.823</td> <td>    0.727</td>\n",
       "</tr>\n",
       "<tr>\n",
       "  <th>Family_Cat_Solo</th>   <td>    1.2741</td> <td>    0.321</td> <td>    3.971</td> <td> 0.000</td> <td>    0.645</td> <td>    1.903</td>\n",
       "</tr>\n",
       "</table>"
      ],
      "text/latex": [
       "\\begin{center}\n",
       "\\begin{tabular}{lclc}\n",
       "\\toprule\n",
       "\\textbf{Dep. Variable:}      &     Survived     & \\textbf{  No. Observations:  } &      891    \\\\\n",
       "\\textbf{Model:}              &      Logit       & \\textbf{  Df Residuals:      } &      876    \\\\\n",
       "\\textbf{Method:}             &       MLE        & \\textbf{  Df Model:          } &       14    \\\\\n",
       "\\textbf{Date:}               & Tue, 05 Dec 2023 & \\textbf{  Pseudo R-squ.:     } &   0.3675    \\\\\n",
       "\\textbf{Time:}               &     06:55:40     & \\textbf{  Log-Likelihood:    } &   -375.28   \\\\\n",
       "\\textbf{converged:}          &      False       & \\textbf{  LL-Null:           } &   -593.33   \\\\\n",
       "\\textbf{Covariance Type:}    &    nonrobust     & \\textbf{  LLR p-value:       } & 3.084e-84   \\\\\n",
       "\\bottomrule\n",
       "\\end{tabular}\n",
       "\\begin{tabular}{lcccccc}\n",
       "                             & \\textbf{coef} & \\textbf{std err} & \\textbf{z} & \\textbf{P$> |$z$|$} & \\textbf{[0.025} & \\textbf{0.975]}  \\\\\n",
       "\\midrule\n",
       "\\textbf{Pclass}              &      -0.2969  &        0.168     &    -1.773  &         0.076        &       -0.625    &        0.031     \\\\\n",
       "\\textbf{Age}                 &      -0.0131  &        0.009     &    -1.504  &         0.133        &       -0.030    &        0.004     \\\\\n",
       "\\textbf{Fare}                &       0.0097  &        0.003     &     3.240  &         0.001        &        0.004    &        0.016     \\\\\n",
       "\\textbf{Family}              &       0.5728  &        0.170     &     3.372  &         0.001        &        0.240    &        0.906     \\\\\n",
       "\\textbf{Embarked\\_Q}         &       0.1156  &        0.394     &     0.293  &         0.769        &       -0.657    &        0.888     \\\\\n",
       "\\textbf{Embarked\\_S}         &      -0.0706  &        0.241     &    -0.293  &         0.769        &       -0.542    &        0.401     \\\\\n",
       "\\textbf{Cabin\\_Cat\\_Missing} &      -0.7748  &        0.314     &    -2.468  &         0.014        &       -1.390    &       -0.159     \\\\\n",
       "\\textbf{Titles\\_Miss}        &       0.8299  &        0.449     &     1.847  &         0.065        &       -0.051    &        1.711     \\\\\n",
       "\\textbf{Titles\\_Mr}          &      -1.9628  &        0.468     &    -4.195  &         0.000        &       -2.880    &       -1.046     \\\\\n",
       "\\textbf{Titles\\_Mrs}         &       1.5941  &        0.507     &     3.145  &         0.002        &        0.601    &        2.587     \\\\\n",
       "\\textbf{Titles\\_Ms}          &      21.3221  &     4.64e+04     &     0.000  &         1.000        &    -9.09e+04    &     9.09e+04     \\\\\n",
       "\\textbf{Titles\\_Others}      &      -1.0974  &        0.632     &    -1.736  &         0.082        &       -2.336    &        0.141     \\\\\n",
       "\\textbf{Family\\_Cat\\_Large}  &      -5.0538  &        1.047     &    -4.825  &         0.000        &       -7.107    &       -3.001     \\\\\n",
       "\\textbf{Family\\_Cat\\_Small}  &      -0.0480  &        0.396     &    -0.121  &         0.903        &       -0.823    &        0.727     \\\\\n",
       "\\textbf{Family\\_Cat\\_Solo}   &       1.2741  &        0.321     &     3.971  &         0.000        &        0.645    &        1.903     \\\\\n",
       "\\bottomrule\n",
       "\\end{tabular}\n",
       "%\\caption{Logit Regression Results}\n",
       "\\end{center}"
      ],
      "text/plain": [
       "<class 'statsmodels.iolib.summary.Summary'>\n",
       "\"\"\"\n",
       "                           Logit Regression Results                           \n",
       "==============================================================================\n",
       "Dep. Variable:               Survived   No. Observations:                  891\n",
       "Model:                          Logit   Df Residuals:                      876\n",
       "Method:                           MLE   Df Model:                           14\n",
       "Date:                Tue, 05 Dec 2023   Pseudo R-squ.:                  0.3675\n",
       "Time:                        06:55:40   Log-Likelihood:                -375.28\n",
       "converged:                      False   LL-Null:                       -593.33\n",
       "Covariance Type:            nonrobust   LLR p-value:                 3.084e-84\n",
       "=====================================================================================\n",
       "                        coef    std err          z      P>|z|      [0.025      0.975]\n",
       "-------------------------------------------------------------------------------------\n",
       "Pclass               -0.2969      0.168     -1.773      0.076      -0.625       0.031\n",
       "Age                  -0.0131      0.009     -1.504      0.133      -0.030       0.004\n",
       "Fare                  0.0097      0.003      3.240      0.001       0.004       0.016\n",
       "Family                0.5728      0.170      3.372      0.001       0.240       0.906\n",
       "Embarked_Q            0.1156      0.394      0.293      0.769      -0.657       0.888\n",
       "Embarked_S           -0.0706      0.241     -0.293      0.769      -0.542       0.401\n",
       "Cabin_Cat_Missing    -0.7748      0.314     -2.468      0.014      -1.390      -0.159\n",
       "Titles_Miss           0.8299      0.449      1.847      0.065      -0.051       1.711\n",
       "Titles_Mr            -1.9628      0.468     -4.195      0.000      -2.880      -1.046\n",
       "Titles_Mrs            1.5941      0.507      3.145      0.002       0.601       2.587\n",
       "Titles_Ms            21.3221   4.64e+04      0.000      1.000   -9.09e+04    9.09e+04\n",
       "Titles_Others        -1.0974      0.632     -1.736      0.082      -2.336       0.141\n",
       "Family_Cat_Large     -5.0538      1.047     -4.825      0.000      -7.107      -3.001\n",
       "Family_Cat_Small     -0.0480      0.396     -0.121      0.903      -0.823       0.727\n",
       "Family_Cat_Solo       1.2741      0.321      3.971      0.000       0.645       1.903\n",
       "=====================================================================================\n",
       "\"\"\""
      ]
     },
     "execution_count": 53,
     "metadata": {},
     "output_type": "execute_result"
    }
   ],
   "source": [
    "# Lets Rebuild the model\n",
    "model = sma.Logit(y,subset).fit()\n",
    "model.summary()"
   ]
  },
  {
   "cell_type": "markdown",
   "id": "c25d2824",
   "metadata": {
    "id": "c25d2824"
   },
   "source": [
    "### Lets Remove the High Pvalue"
   ]
  },
  {
   "cell_type": "raw",
   "id": "fa6ae38b",
   "metadata": {
    "id": "fa6ae38b"
   },
   "source": [
    "feats = []\n",
    "for i in model.pvalues:\n",
    "    if i< 0.05:\n",
    "        feats.append(model.pvalues)\n"
   ]
  },
  {
   "cell_type": "code",
   "execution_count": 54,
   "id": "32621ad5",
   "metadata": {
    "colab": {
     "base_uri": "https://localhost:8080/",
     "height": 520
    },
    "id": "32621ad5",
    "outputId": "e57fbd84-0e82-4286-aedd-cd0781bfd964"
   },
   "outputs": [
    {
     "data": {
      "text/html": [
       "\n",
       "  <div id=\"df-396732ac-ae35-4ac9-821b-71b5dea4dabf\" class=\"colab-df-container\">\n",
       "    <div>\n",
       "<style scoped>\n",
       "    .dataframe tbody tr th:only-of-type {\n",
       "        vertical-align: middle;\n",
       "    }\n",
       "\n",
       "    .dataframe tbody tr th {\n",
       "        vertical-align: top;\n",
       "    }\n",
       "\n",
       "    .dataframe thead th {\n",
       "        text-align: right;\n",
       "    }\n",
       "</style>\n",
       "<table border=\"1\" class=\"dataframe\">\n",
       "  <thead>\n",
       "    <tr style=\"text-align: right;\">\n",
       "      <th></th>\n",
       "      <th>index</th>\n",
       "      <th>Pvalue</th>\n",
       "    </tr>\n",
       "  </thead>\n",
       "  <tbody>\n",
       "    <tr>\n",
       "      <th>0</th>\n",
       "      <td>Pclass</td>\n",
       "      <td>0.076269</td>\n",
       "    </tr>\n",
       "    <tr>\n",
       "      <th>1</th>\n",
       "      <td>Age</td>\n",
       "      <td>0.132539</td>\n",
       "    </tr>\n",
       "    <tr>\n",
       "      <th>2</th>\n",
       "      <td>Fare</td>\n",
       "      <td>0.001194</td>\n",
       "    </tr>\n",
       "    <tr>\n",
       "      <th>3</th>\n",
       "      <td>Family</td>\n",
       "      <td>0.000745</td>\n",
       "    </tr>\n",
       "    <tr>\n",
       "      <th>4</th>\n",
       "      <td>Embarked_Q</td>\n",
       "      <td>0.769247</td>\n",
       "    </tr>\n",
       "    <tr>\n",
       "      <th>5</th>\n",
       "      <td>Embarked_S</td>\n",
       "      <td>0.769418</td>\n",
       "    </tr>\n",
       "    <tr>\n",
       "      <th>6</th>\n",
       "      <td>Cabin_Cat_Missing</td>\n",
       "      <td>0.013606</td>\n",
       "    </tr>\n",
       "    <tr>\n",
       "      <th>7</th>\n",
       "      <td>Titles_Miss</td>\n",
       "      <td>0.064786</td>\n",
       "    </tr>\n",
       "    <tr>\n",
       "      <th>8</th>\n",
       "      <td>Titles_Mr</td>\n",
       "      <td>0.000027</td>\n",
       "    </tr>\n",
       "    <tr>\n",
       "      <th>9</th>\n",
       "      <td>Titles_Mrs</td>\n",
       "      <td>0.001659</td>\n",
       "    </tr>\n",
       "    <tr>\n",
       "      <th>10</th>\n",
       "      <td>Titles_Ms</td>\n",
       "      <td>0.999633</td>\n",
       "    </tr>\n",
       "    <tr>\n",
       "      <th>11</th>\n",
       "      <td>Titles_Others</td>\n",
       "      <td>0.082498</td>\n",
       "    </tr>\n",
       "    <tr>\n",
       "      <th>12</th>\n",
       "      <td>Family_Cat_Large</td>\n",
       "      <td>0.000001</td>\n",
       "    </tr>\n",
       "    <tr>\n",
       "      <th>13</th>\n",
       "      <td>Family_Cat_Small</td>\n",
       "      <td>0.903457</td>\n",
       "    </tr>\n",
       "    <tr>\n",
       "      <th>14</th>\n",
       "      <td>Family_Cat_Solo</td>\n",
       "      <td>0.000072</td>\n",
       "    </tr>\n",
       "  </tbody>\n",
       "</table>\n",
       "</div>\n",
       "    <div class=\"colab-df-buttons\">\n",
       "\n",
       "  <div class=\"colab-df-container\">\n",
       "    <button class=\"colab-df-convert\" onclick=\"convertToInteractive('df-396732ac-ae35-4ac9-821b-71b5dea4dabf')\"\n",
       "            title=\"Convert this dataframe to an interactive table.\"\n",
       "            style=\"display:none;\">\n",
       "\n",
       "  <svg xmlns=\"http://www.w3.org/2000/svg\" height=\"24px\" viewBox=\"0 -960 960 960\">\n",
       "    <path d=\"M120-120v-720h720v720H120Zm60-500h600v-160H180v160Zm220 220h160v-160H400v160Zm0 220h160v-160H400v160ZM180-400h160v-160H180v160Zm440 0h160v-160H620v160ZM180-180h160v-160H180v160Zm440 0h160v-160H620v160Z\"/>\n",
       "  </svg>\n",
       "    </button>\n",
       "\n",
       "  <style>\n",
       "    .colab-df-container {\n",
       "      display:flex;\n",
       "      gap: 12px;\n",
       "    }\n",
       "\n",
       "    .colab-df-convert {\n",
       "      background-color: #E8F0FE;\n",
       "      border: none;\n",
       "      border-radius: 50%;\n",
       "      cursor: pointer;\n",
       "      display: none;\n",
       "      fill: #1967D2;\n",
       "      height: 32px;\n",
       "      padding: 0 0 0 0;\n",
       "      width: 32px;\n",
       "    }\n",
       "\n",
       "    .colab-df-convert:hover {\n",
       "      background-color: #E2EBFA;\n",
       "      box-shadow: 0px 1px 2px rgba(60, 64, 67, 0.3), 0px 1px 3px 1px rgba(60, 64, 67, 0.15);\n",
       "      fill: #174EA6;\n",
       "    }\n",
       "\n",
       "    .colab-df-buttons div {\n",
       "      margin-bottom: 4px;\n",
       "    }\n",
       "\n",
       "    [theme=dark] .colab-df-convert {\n",
       "      background-color: #3B4455;\n",
       "      fill: #D2E3FC;\n",
       "    }\n",
       "\n",
       "    [theme=dark] .colab-df-convert:hover {\n",
       "      background-color: #434B5C;\n",
       "      box-shadow: 0px 1px 3px 1px rgba(0, 0, 0, 0.15);\n",
       "      filter: drop-shadow(0px 1px 2px rgba(0, 0, 0, 0.3));\n",
       "      fill: #FFFFFF;\n",
       "    }\n",
       "  </style>\n",
       "\n",
       "    <script>\n",
       "      const buttonEl =\n",
       "        document.querySelector('#df-396732ac-ae35-4ac9-821b-71b5dea4dabf button.colab-df-convert');\n",
       "      buttonEl.style.display =\n",
       "        google.colab.kernel.accessAllowed ? 'block' : 'none';\n",
       "\n",
       "      async function convertToInteractive(key) {\n",
       "        const element = document.querySelector('#df-396732ac-ae35-4ac9-821b-71b5dea4dabf');\n",
       "        const dataTable =\n",
       "          await google.colab.kernel.invokeFunction('convertToInteractive',\n",
       "                                                    [key], {});\n",
       "        if (!dataTable) return;\n",
       "\n",
       "        const docLinkHtml = 'Like what you see? Visit the ' +\n",
       "          '<a target=\"_blank\" href=https://colab.research.google.com/notebooks/data_table.ipynb>data table notebook</a>'\n",
       "          + ' to learn more about interactive tables.';\n",
       "        element.innerHTML = '';\n",
       "        dataTable['output_type'] = 'display_data';\n",
       "        await google.colab.output.renderOutput(dataTable, element);\n",
       "        const docLink = document.createElement('div');\n",
       "        docLink.innerHTML = docLinkHtml;\n",
       "        element.appendChild(docLink);\n",
       "      }\n",
       "    </script>\n",
       "  </div>\n",
       "\n",
       "\n",
       "<div id=\"df-3f31c454-7af0-4442-a1b6-55dcca4d55df\">\n",
       "  <button class=\"colab-df-quickchart\" onclick=\"quickchart('df-3f31c454-7af0-4442-a1b6-55dcca4d55df')\"\n",
       "            title=\"Suggest charts\"\n",
       "            style=\"display:none;\">\n",
       "\n",
       "<svg xmlns=\"http://www.w3.org/2000/svg\" height=\"24px\"viewBox=\"0 0 24 24\"\n",
       "     width=\"24px\">\n",
       "    <g>\n",
       "        <path d=\"M19 3H5c-1.1 0-2 .9-2 2v14c0 1.1.9 2 2 2h14c1.1 0 2-.9 2-2V5c0-1.1-.9-2-2-2zM9 17H7v-7h2v7zm4 0h-2V7h2v10zm4 0h-2v-4h2v4z\"/>\n",
       "    </g>\n",
       "</svg>\n",
       "  </button>\n",
       "\n",
       "<style>\n",
       "  .colab-df-quickchart {\n",
       "      --bg-color: #E8F0FE;\n",
       "      --fill-color: #1967D2;\n",
       "      --hover-bg-color: #E2EBFA;\n",
       "      --hover-fill-color: #174EA6;\n",
       "      --disabled-fill-color: #AAA;\n",
       "      --disabled-bg-color: #DDD;\n",
       "  }\n",
       "\n",
       "  [theme=dark] .colab-df-quickchart {\n",
       "      --bg-color: #3B4455;\n",
       "      --fill-color: #D2E3FC;\n",
       "      --hover-bg-color: #434B5C;\n",
       "      --hover-fill-color: #FFFFFF;\n",
       "      --disabled-bg-color: #3B4455;\n",
       "      --disabled-fill-color: #666;\n",
       "  }\n",
       "\n",
       "  .colab-df-quickchart {\n",
       "    background-color: var(--bg-color);\n",
       "    border: none;\n",
       "    border-radius: 50%;\n",
       "    cursor: pointer;\n",
       "    display: none;\n",
       "    fill: var(--fill-color);\n",
       "    height: 32px;\n",
       "    padding: 0;\n",
       "    width: 32px;\n",
       "  }\n",
       "\n",
       "  .colab-df-quickchart:hover {\n",
       "    background-color: var(--hover-bg-color);\n",
       "    box-shadow: 0 1px 2px rgba(60, 64, 67, 0.3), 0 1px 3px 1px rgba(60, 64, 67, 0.15);\n",
       "    fill: var(--button-hover-fill-color);\n",
       "  }\n",
       "\n",
       "  .colab-df-quickchart-complete:disabled,\n",
       "  .colab-df-quickchart-complete:disabled:hover {\n",
       "    background-color: var(--disabled-bg-color);\n",
       "    fill: var(--disabled-fill-color);\n",
       "    box-shadow: none;\n",
       "  }\n",
       "\n",
       "  .colab-df-spinner {\n",
       "    border: 2px solid var(--fill-color);\n",
       "    border-color: transparent;\n",
       "    border-bottom-color: var(--fill-color);\n",
       "    animation:\n",
       "      spin 1s steps(1) infinite;\n",
       "  }\n",
       "\n",
       "  @keyframes spin {\n",
       "    0% {\n",
       "      border-color: transparent;\n",
       "      border-bottom-color: var(--fill-color);\n",
       "      border-left-color: var(--fill-color);\n",
       "    }\n",
       "    20% {\n",
       "      border-color: transparent;\n",
       "      border-left-color: var(--fill-color);\n",
       "      border-top-color: var(--fill-color);\n",
       "    }\n",
       "    30% {\n",
       "      border-color: transparent;\n",
       "      border-left-color: var(--fill-color);\n",
       "      border-top-color: var(--fill-color);\n",
       "      border-right-color: var(--fill-color);\n",
       "    }\n",
       "    40% {\n",
       "      border-color: transparent;\n",
       "      border-right-color: var(--fill-color);\n",
       "      border-top-color: var(--fill-color);\n",
       "    }\n",
       "    60% {\n",
       "      border-color: transparent;\n",
       "      border-right-color: var(--fill-color);\n",
       "    }\n",
       "    80% {\n",
       "      border-color: transparent;\n",
       "      border-right-color: var(--fill-color);\n",
       "      border-bottom-color: var(--fill-color);\n",
       "    }\n",
       "    90% {\n",
       "      border-color: transparent;\n",
       "      border-bottom-color: var(--fill-color);\n",
       "    }\n",
       "  }\n",
       "</style>\n",
       "\n",
       "  <script>\n",
       "    async function quickchart(key) {\n",
       "      const quickchartButtonEl =\n",
       "        document.querySelector('#' + key + ' button');\n",
       "      quickchartButtonEl.disabled = true;  // To prevent multiple clicks.\n",
       "      quickchartButtonEl.classList.add('colab-df-spinner');\n",
       "      try {\n",
       "        const charts = await google.colab.kernel.invokeFunction(\n",
       "            'suggestCharts', [key], {});\n",
       "      } catch (error) {\n",
       "        console.error('Error during call to suggestCharts:', error);\n",
       "      }\n",
       "      quickchartButtonEl.classList.remove('colab-df-spinner');\n",
       "      quickchartButtonEl.classList.add('colab-df-quickchart-complete');\n",
       "    }\n",
       "    (() => {\n",
       "      let quickchartButtonEl =\n",
       "        document.querySelector('#df-3f31c454-7af0-4442-a1b6-55dcca4d55df button');\n",
       "      quickchartButtonEl.style.display =\n",
       "        google.colab.kernel.accessAllowed ? 'block' : 'none';\n",
       "    })();\n",
       "  </script>\n",
       "</div>\n",
       "    </div>\n",
       "  </div>\n"
      ],
      "text/plain": [
       "                index    Pvalue\n",
       "0              Pclass  0.076269\n",
       "1                 Age  0.132539\n",
       "2                Fare  0.001194\n",
       "3              Family  0.000745\n",
       "4          Embarked_Q  0.769247\n",
       "5          Embarked_S  0.769418\n",
       "6   Cabin_Cat_Missing  0.013606\n",
       "7         Titles_Miss  0.064786\n",
       "8           Titles_Mr  0.000027\n",
       "9          Titles_Mrs  0.001659\n",
       "10          Titles_Ms  0.999633\n",
       "11      Titles_Others  0.082498\n",
       "12   Family_Cat_Large  0.000001\n",
       "13   Family_Cat_Small  0.903457\n",
       "14    Family_Cat_Solo  0.000072"
      ]
     },
     "execution_count": 54,
     "metadata": {},
     "output_type": "execute_result"
    }
   ],
   "source": [
    "localdf = pd.DataFrame(model.pvalues,columns=['Pvalue']).reset_index()\n",
    "localdf"
   ]
  },
  {
   "cell_type": "code",
   "execution_count": 55,
   "id": "28c1c046",
   "metadata": {
    "id": "28c1c046"
   },
   "outputs": [],
   "source": [
    "feats = list(localdf.loc[localdf['Pvalue']<0.05, \"index\"])"
   ]
  },
  {
   "cell_type": "code",
   "execution_count": 56,
   "id": "935bb13b",
   "metadata": {
    "colab": {
     "base_uri": "https://localhost:8080/"
    },
    "id": "935bb13b",
    "outputId": "01b4ee37-6ccb-4e1b-d6bf-e67954dc88c5"
   },
   "outputs": [
    {
     "data": {
      "text/plain": [
       "['Fare',\n",
       " 'Family',\n",
       " 'Cabin_Cat_Missing',\n",
       " 'Titles_Mr',\n",
       " 'Titles_Mrs',\n",
       " 'Family_Cat_Large',\n",
       " 'Family_Cat_Solo']"
      ]
     },
     "execution_count": 56,
     "metadata": {},
     "output_type": "execute_result"
    }
   ],
   "source": [
    "feats"
   ]
  },
  {
   "cell_type": "code",
   "execution_count": 57,
   "id": "c70940dd",
   "metadata": {
    "colab": {
     "base_uri": "https://localhost:8080/",
     "height": 412
    },
    "id": "c70940dd",
    "outputId": "f77bfff8-7280-4ad1-ec73-502d32ee3e6d"
   },
   "outputs": [
    {
     "name": "stdout",
     "output_type": "stream",
     "text": [
      "Optimization terminated successfully.\n",
      "         Current function value: 0.434542\n",
      "         Iterations 6\n"
     ]
    },
    {
     "data": {
      "text/html": [
       "<table class=\"simpletable\">\n",
       "<caption>Logit Regression Results</caption>\n",
       "<tr>\n",
       "  <th>Dep. Variable:</th>       <td>Survived</td>     <th>  No. Observations:  </th>  <td>   891</td>  \n",
       "</tr>\n",
       "<tr>\n",
       "  <th>Model:</th>                 <td>Logit</td>      <th>  Df Residuals:      </th>  <td>   884</td>  \n",
       "</tr>\n",
       "<tr>\n",
       "  <th>Method:</th>                 <td>MLE</td>       <th>  Df Model:          </th>  <td>     6</td>  \n",
       "</tr>\n",
       "<tr>\n",
       "  <th>Date:</th>            <td>Tue, 05 Dec 2023</td> <th>  Pseudo R-squ.:     </th>  <td>0.3474</td>  \n",
       "</tr>\n",
       "<tr>\n",
       "  <th>Time:</th>                <td>06:55:40</td>     <th>  Log-Likelihood:    </th> <td> -387.18</td> \n",
       "</tr>\n",
       "<tr>\n",
       "  <th>converged:</th>             <td>True</td>       <th>  LL-Null:           </th> <td> -593.33</td> \n",
       "</tr>\n",
       "<tr>\n",
       "  <th>Covariance Type:</th>     <td>nonrobust</td>    <th>  LLR p-value:       </th> <td>6.329e-86</td>\n",
       "</tr>\n",
       "</table>\n",
       "<table class=\"simpletable\">\n",
       "<tr>\n",
       "          <td></td>             <th>coef</th>     <th>std err</th>      <th>z</th>      <th>P>|z|</th>  <th>[0.025</th>    <th>0.975]</th>  \n",
       "</tr>\n",
       "<tr>\n",
       "  <th>Fare</th>              <td>    0.0109</td> <td>    0.003</td> <td>    4.200</td> <td> 0.000</td> <td>    0.006</td> <td>    0.016</td>\n",
       "</tr>\n",
       "<tr>\n",
       "  <th>Family</th>            <td>    0.4258</td> <td>    0.098</td> <td>    4.363</td> <td> 0.000</td> <td>    0.235</td> <td>    0.617</td>\n",
       "</tr>\n",
       "<tr>\n",
       "  <th>Cabin_Cat_Missing</th> <td>   -0.9245</td> <td>    0.232</td> <td>   -3.977</td> <td> 0.000</td> <td>   -1.380</td> <td>   -0.469</td>\n",
       "</tr>\n",
       "<tr>\n",
       "  <th>Titles_Mr</th>         <td>   -2.5722</td> <td>    0.203</td> <td>  -12.698</td> <td> 0.000</td> <td>   -2.969</td> <td>   -2.175</td>\n",
       "</tr>\n",
       "<tr>\n",
       "  <th>Titles_Mrs</th>        <td>    0.8667</td> <td>    0.293</td> <td>    2.958</td> <td> 0.003</td> <td>    0.292</td> <td>    1.441</td>\n",
       "</tr>\n",
       "<tr>\n",
       "  <th>Family_Cat_Large</th>  <td>   -4.4873</td> <td>    0.639</td> <td>   -7.018</td> <td> 0.000</td> <td>   -5.740</td> <td>   -3.234</td>\n",
       "</tr>\n",
       "<tr>\n",
       "  <th>Family_Cat_Solo</th>   <td>    0.9603</td> <td>    0.219</td> <td>    4.387</td> <td> 0.000</td> <td>    0.531</td> <td>    1.389</td>\n",
       "</tr>\n",
       "</table>"
      ],
      "text/latex": [
       "\\begin{center}\n",
       "\\begin{tabular}{lclc}\n",
       "\\toprule\n",
       "\\textbf{Dep. Variable:}      &     Survived     & \\textbf{  No. Observations:  } &      891    \\\\\n",
       "\\textbf{Model:}              &      Logit       & \\textbf{  Df Residuals:      } &      884    \\\\\n",
       "\\textbf{Method:}             &       MLE        & \\textbf{  Df Model:          } &        6    \\\\\n",
       "\\textbf{Date:}               & Tue, 05 Dec 2023 & \\textbf{  Pseudo R-squ.:     } &   0.3474    \\\\\n",
       "\\textbf{Time:}               &     06:55:40     & \\textbf{  Log-Likelihood:    } &   -387.18   \\\\\n",
       "\\textbf{converged:}          &       True       & \\textbf{  LL-Null:           } &   -593.33   \\\\\n",
       "\\textbf{Covariance Type:}    &    nonrobust     & \\textbf{  LLR p-value:       } & 6.329e-86   \\\\\n",
       "\\bottomrule\n",
       "\\end{tabular}\n",
       "\\begin{tabular}{lcccccc}\n",
       "                             & \\textbf{coef} & \\textbf{std err} & \\textbf{z} & \\textbf{P$> |$z$|$} & \\textbf{[0.025} & \\textbf{0.975]}  \\\\\n",
       "\\midrule\n",
       "\\textbf{Fare}                &       0.0109  &        0.003     &     4.200  &         0.000        &        0.006    &        0.016     \\\\\n",
       "\\textbf{Family}              &       0.4258  &        0.098     &     4.363  &         0.000        &        0.235    &        0.617     \\\\\n",
       "\\textbf{Cabin\\_Cat\\_Missing} &      -0.9245  &        0.232     &    -3.977  &         0.000        &       -1.380    &       -0.469     \\\\\n",
       "\\textbf{Titles\\_Mr}          &      -2.5722  &        0.203     &   -12.698  &         0.000        &       -2.969    &       -2.175     \\\\\n",
       "\\textbf{Titles\\_Mrs}         &       0.8667  &        0.293     &     2.958  &         0.003        &        0.292    &        1.441     \\\\\n",
       "\\textbf{Family\\_Cat\\_Large}  &      -4.4873  &        0.639     &    -7.018  &         0.000        &       -5.740    &       -3.234     \\\\\n",
       "\\textbf{Family\\_Cat\\_Solo}   &       0.9603  &        0.219     &     4.387  &         0.000        &        0.531    &        1.389     \\\\\n",
       "\\bottomrule\n",
       "\\end{tabular}\n",
       "%\\caption{Logit Regression Results}\n",
       "\\end{center}"
      ],
      "text/plain": [
       "<class 'statsmodels.iolib.summary.Summary'>\n",
       "\"\"\"\n",
       "                           Logit Regression Results                           \n",
       "==============================================================================\n",
       "Dep. Variable:               Survived   No. Observations:                  891\n",
       "Model:                          Logit   Df Residuals:                      884\n",
       "Method:                           MLE   Df Model:                            6\n",
       "Date:                Tue, 05 Dec 2023   Pseudo R-squ.:                  0.3474\n",
       "Time:                        06:55:40   Log-Likelihood:                -387.18\n",
       "converged:                       True   LL-Null:                       -593.33\n",
       "Covariance Type:            nonrobust   LLR p-value:                 6.329e-86\n",
       "=====================================================================================\n",
       "                        coef    std err          z      P>|z|      [0.025      0.975]\n",
       "-------------------------------------------------------------------------------------\n",
       "Fare                  0.0109      0.003      4.200      0.000       0.006       0.016\n",
       "Family                0.4258      0.098      4.363      0.000       0.235       0.617\n",
       "Cabin_Cat_Missing    -0.9245      0.232     -3.977      0.000      -1.380      -0.469\n",
       "Titles_Mr            -2.5722      0.203    -12.698      0.000      -2.969      -2.175\n",
       "Titles_Mrs            0.8667      0.293      2.958      0.003       0.292       1.441\n",
       "Family_Cat_Large     -4.4873      0.639     -7.018      0.000      -5.740      -3.234\n",
       "Family_Cat_Solo       0.9603      0.219      4.387      0.000       0.531       1.389\n",
       "=====================================================================================\n",
       "\"\"\""
      ]
     },
     "execution_count": 57,
     "metadata": {},
     "output_type": "execute_result"
    }
   ],
   "source": [
    "# Model of important features\n",
    "newfits = subset.loc[:,feats]\n",
    "model = sma.Logit(y,newfits).fit()\n",
    "\n",
    "model.summary()"
   ]
  },
  {
   "cell_type": "code",
   "execution_count": null,
   "id": "WI-8mrCrw0YQ",
   "metadata": {
    "id": "WI-8mrCrw0YQ"
   },
   "outputs": [],
   "source": [
    "# Predict the Output using Sigmoid"
   ]
  },
  {
   "cell_type": "code",
   "execution_count": 63,
   "id": "79465517",
   "metadata": {
    "colab": {
     "base_uri": "https://localhost:8080/"
    },
    "id": "79465517",
    "outputId": "85c65128-32dd-4c5b-f4bd-0a8d499654d0"
   },
   "outputs": [
    {
     "data": {
      "text/plain": [
       "0.010875111611108868"
      ]
     },
     "execution_count": 63,
     "metadata": {},
     "output_type": "execute_result"
    }
   ],
   "source": [
    "model.params[0]"
   ]
  },
  {
   "cell_type": "code",
   "execution_count": 60,
   "id": "4b299401",
   "metadata": {
    "colab": {
     "base_uri": "https://localhost:8080/",
     "height": 81
    },
    "id": "4b299401",
    "outputId": "fd4b903f-7b7e-4819-d1a5-b24440851545"
   },
   "outputs": [
    {
     "data": {
      "text/html": [
       "\n",
       "  <div id=\"df-010f295e-b565-44cd-a205-767755c268f1\" class=\"colab-df-container\">\n",
       "    <div>\n",
       "<style scoped>\n",
       "    .dataframe tbody tr th:only-of-type {\n",
       "        vertical-align: middle;\n",
       "    }\n",
       "\n",
       "    .dataframe tbody tr th {\n",
       "        vertical-align: top;\n",
       "    }\n",
       "\n",
       "    .dataframe thead th {\n",
       "        text-align: right;\n",
       "    }\n",
       "</style>\n",
       "<table border=\"1\" class=\"dataframe\">\n",
       "  <thead>\n",
       "    <tr style=\"text-align: right;\">\n",
       "      <th></th>\n",
       "      <th>Fare</th>\n",
       "      <th>Family</th>\n",
       "      <th>Cabin_Cat_Missing</th>\n",
       "      <th>Titles_Mr</th>\n",
       "      <th>Titles_Mrs</th>\n",
       "      <th>Family_Cat_Large</th>\n",
       "      <th>Family_Cat_Solo</th>\n",
       "    </tr>\n",
       "  </thead>\n",
       "  <tbody>\n",
       "    <tr>\n",
       "      <th>891</th>\n",
       "      <td>7.8292</td>\n",
       "      <td>1</td>\n",
       "      <td>1</td>\n",
       "      <td>1</td>\n",
       "      <td>0</td>\n",
       "      <td>0</td>\n",
       "      <td>1</td>\n",
       "    </tr>\n",
       "  </tbody>\n",
       "</table>\n",
       "</div>\n",
       "    <div class=\"colab-df-buttons\">\n",
       "\n",
       "  <div class=\"colab-df-container\">\n",
       "    <button class=\"colab-df-convert\" onclick=\"convertToInteractive('df-010f295e-b565-44cd-a205-767755c268f1')\"\n",
       "            title=\"Convert this dataframe to an interactive table.\"\n",
       "            style=\"display:none;\">\n",
       "\n",
       "  <svg xmlns=\"http://www.w3.org/2000/svg\" height=\"24px\" viewBox=\"0 -960 960 960\">\n",
       "    <path d=\"M120-120v-720h720v720H120Zm60-500h600v-160H180v160Zm220 220h160v-160H400v160Zm0 220h160v-160H400v160ZM180-400h160v-160H180v160Zm440 0h160v-160H620v160ZM180-180h160v-160H180v160Zm440 0h160v-160H620v160Z\"/>\n",
       "  </svg>\n",
       "    </button>\n",
       "\n",
       "  <style>\n",
       "    .colab-df-container {\n",
       "      display:flex;\n",
       "      gap: 12px;\n",
       "    }\n",
       "\n",
       "    .colab-df-convert {\n",
       "      background-color: #E8F0FE;\n",
       "      border: none;\n",
       "      border-radius: 50%;\n",
       "      cursor: pointer;\n",
       "      display: none;\n",
       "      fill: #1967D2;\n",
       "      height: 32px;\n",
       "      padding: 0 0 0 0;\n",
       "      width: 32px;\n",
       "    }\n",
       "\n",
       "    .colab-df-convert:hover {\n",
       "      background-color: #E2EBFA;\n",
       "      box-shadow: 0px 1px 2px rgba(60, 64, 67, 0.3), 0px 1px 3px 1px rgba(60, 64, 67, 0.15);\n",
       "      fill: #174EA6;\n",
       "    }\n",
       "\n",
       "    .colab-df-buttons div {\n",
       "      margin-bottom: 4px;\n",
       "    }\n",
       "\n",
       "    [theme=dark] .colab-df-convert {\n",
       "      background-color: #3B4455;\n",
       "      fill: #D2E3FC;\n",
       "    }\n",
       "\n",
       "    [theme=dark] .colab-df-convert:hover {\n",
       "      background-color: #434B5C;\n",
       "      box-shadow: 0px 1px 3px 1px rgba(0, 0, 0, 0.15);\n",
       "      filter: drop-shadow(0px 1px 2px rgba(0, 0, 0, 0.3));\n",
       "      fill: #FFFFFF;\n",
       "    }\n",
       "  </style>\n",
       "\n",
       "    <script>\n",
       "      const buttonEl =\n",
       "        document.querySelector('#df-010f295e-b565-44cd-a205-767755c268f1 button.colab-df-convert');\n",
       "      buttonEl.style.display =\n",
       "        google.colab.kernel.accessAllowed ? 'block' : 'none';\n",
       "\n",
       "      async function convertToInteractive(key) {\n",
       "        const element = document.querySelector('#df-010f295e-b565-44cd-a205-767755c268f1');\n",
       "        const dataTable =\n",
       "          await google.colab.kernel.invokeFunction('convertToInteractive',\n",
       "                                                    [key], {});\n",
       "        if (!dataTable) return;\n",
       "\n",
       "        const docLinkHtml = 'Like what you see? Visit the ' +\n",
       "          '<a target=\"_blank\" href=https://colab.research.google.com/notebooks/data_table.ipynb>data table notebook</a>'\n",
       "          + ' to learn more about interactive tables.';\n",
       "        element.innerHTML = '';\n",
       "        dataTable['output_type'] = 'display_data';\n",
       "        await google.colab.output.renderOutput(dataTable, element);\n",
       "        const docLink = document.createElement('div');\n",
       "        docLink.innerHTML = docLinkHtml;\n",
       "        element.appendChild(docLink);\n",
       "      }\n",
       "    </script>\n",
       "  </div>\n",
       "\n",
       "    </div>\n",
       "  </div>\n"
      ],
      "text/plain": [
       "       Fare  Family  Cabin_Cat_Missing  Titles_Mr  Titles_Mrs  \\\n",
       "891  7.8292       1                  1          1           0   \n",
       "\n",
       "     Family_Cat_Large  Family_Cat_Solo  \n",
       "891                 0                1  "
      ]
     },
     "execution_count": 60,
     "metadata": {},
     "output_type": "execute_result"
    }
   ],
   "source": [
    "newtest.loc[:,feats].head(1)"
   ]
  },
  {
   "cell_type": "code",
   "execution_count": 62,
   "id": "08d1d0ea",
   "metadata": {
    "id": "08d1d0ea"
   },
   "outputs": [],
   "source": [
    "## Equation for prediction\n",
    "# log(odds)=beta1 * fare + beta2* family + beta3* cabin_cat_missing+....."
   ]
  },
  {
   "cell_type": "code",
   "execution_count": 67,
   "id": "01206c59",
   "metadata": {
    "id": "01206c59"
   },
   "outputs": [],
   "source": [
    "logit=model.params[0]*newtest['Fare']+model.params[1]*newtest['Family']+model.params[2]*newtest['Cabin_Cat_Missing']+\\\n",
    "+model.params[3]*newtest['Titles_Mr']+model.params[4]*newtest['Titles_Mrs']+model.params[5]*newtest['Family_Cat_Large']+model.params[6]*newtest['Family_Cat_Solo']"
   ]
  },
  {
   "cell_type": "code",
   "execution_count": 74,
   "id": "0b307f66",
   "metadata": {
    "colab": {
     "base_uri": "https://localhost:8080/"
    },
    "id": "0b307f66",
    "outputId": "6e890a8f-a8ac-4cc8-867f-2eba756b9ed3"
   },
   "outputs": [
    {
     "name": "stdout",
     "output_type": "stream",
     "text": [
      "Prob using Sigmoid             0\n",
      "891  0.116557\n",
      "Direct Function 891    0.116557\n",
      "dtype: float64\n"
     ]
    }
   ],
   "source": [
    "# Prob using sigmoid\n",
    "prob=1/(1+np.exp(-logit))\n",
    "print('Prob using Sigmoid',pd.DataFrame(prob).head(1))\n",
    "direct=model.predict(newtest.loc[:,feats].head(1))\n",
    "print('Direct Function',direct)"
   ]
  },
  {
   "cell_type": "code",
   "execution_count": 75,
   "id": "bc333335",
   "metadata": {
    "id": "bc333335"
   },
   "outputs": [],
   "source": [
    "# Interpretation of coefficients"
   ]
  },
  {
   "cell_type": "code",
   "execution_count": 76,
   "id": "907c9fde",
   "metadata": {
    "colab": {
     "base_uri": "https://localhost:8080/",
     "height": 359
    },
    "id": "907c9fde",
    "outputId": "12dc1935-513d-4edd-e767-8651ac281b4b"
   },
   "outputs": [
    {
     "data": {
      "text/html": [
       "<table class=\"simpletable\">\n",
       "<caption>Logit Regression Results</caption>\n",
       "<tr>\n",
       "  <th>Dep. Variable:</th>       <td>Survived</td>     <th>  No. Observations:  </th>  <td>   891</td>  \n",
       "</tr>\n",
       "<tr>\n",
       "  <th>Model:</th>                 <td>Logit</td>      <th>  Df Residuals:      </th>  <td>   884</td>  \n",
       "</tr>\n",
       "<tr>\n",
       "  <th>Method:</th>                 <td>MLE</td>       <th>  Df Model:          </th>  <td>     6</td>  \n",
       "</tr>\n",
       "<tr>\n",
       "  <th>Date:</th>            <td>Tue, 05 Dec 2023</td> <th>  Pseudo R-squ.:     </th>  <td>0.3474</td>  \n",
       "</tr>\n",
       "<tr>\n",
       "  <th>Time:</th>                <td>07:28:54</td>     <th>  Log-Likelihood:    </th> <td> -387.18</td> \n",
       "</tr>\n",
       "<tr>\n",
       "  <th>converged:</th>             <td>True</td>       <th>  LL-Null:           </th> <td> -593.33</td> \n",
       "</tr>\n",
       "<tr>\n",
       "  <th>Covariance Type:</th>     <td>nonrobust</td>    <th>  LLR p-value:       </th> <td>6.329e-86</td>\n",
       "</tr>\n",
       "</table>\n",
       "<table class=\"simpletable\">\n",
       "<tr>\n",
       "          <td></td>             <th>coef</th>     <th>std err</th>      <th>z</th>      <th>P>|z|</th>  <th>[0.025</th>    <th>0.975]</th>  \n",
       "</tr>\n",
       "<tr>\n",
       "  <th>Fare</th>              <td>    0.0109</td> <td>    0.003</td> <td>    4.200</td> <td> 0.000</td> <td>    0.006</td> <td>    0.016</td>\n",
       "</tr>\n",
       "<tr>\n",
       "  <th>Family</th>            <td>    0.4258</td> <td>    0.098</td> <td>    4.363</td> <td> 0.000</td> <td>    0.235</td> <td>    0.617</td>\n",
       "</tr>\n",
       "<tr>\n",
       "  <th>Cabin_Cat_Missing</th> <td>   -0.9245</td> <td>    0.232</td> <td>   -3.977</td> <td> 0.000</td> <td>   -1.380</td> <td>   -0.469</td>\n",
       "</tr>\n",
       "<tr>\n",
       "  <th>Titles_Mr</th>         <td>   -2.5722</td> <td>    0.203</td> <td>  -12.698</td> <td> 0.000</td> <td>   -2.969</td> <td>   -2.175</td>\n",
       "</tr>\n",
       "<tr>\n",
       "  <th>Titles_Mrs</th>        <td>    0.8667</td> <td>    0.293</td> <td>    2.958</td> <td> 0.003</td> <td>    0.292</td> <td>    1.441</td>\n",
       "</tr>\n",
       "<tr>\n",
       "  <th>Family_Cat_Large</th>  <td>   -4.4873</td> <td>    0.639</td> <td>   -7.018</td> <td> 0.000</td> <td>   -5.740</td> <td>   -3.234</td>\n",
       "</tr>\n",
       "<tr>\n",
       "  <th>Family_Cat_Solo</th>   <td>    0.9603</td> <td>    0.219</td> <td>    4.387</td> <td> 0.000</td> <td>    0.531</td> <td>    1.389</td>\n",
       "</tr>\n",
       "</table>"
      ],
      "text/latex": [
       "\\begin{center}\n",
       "\\begin{tabular}{lclc}\n",
       "\\toprule\n",
       "\\textbf{Dep. Variable:}      &     Survived     & \\textbf{  No. Observations:  } &      891    \\\\\n",
       "\\textbf{Model:}              &      Logit       & \\textbf{  Df Residuals:      } &      884    \\\\\n",
       "\\textbf{Method:}             &       MLE        & \\textbf{  Df Model:          } &        6    \\\\\n",
       "\\textbf{Date:}               & Tue, 05 Dec 2023 & \\textbf{  Pseudo R-squ.:     } &   0.3474    \\\\\n",
       "\\textbf{Time:}               &     07:28:54     & \\textbf{  Log-Likelihood:    } &   -387.18   \\\\\n",
       "\\textbf{converged:}          &       True       & \\textbf{  LL-Null:           } &   -593.33   \\\\\n",
       "\\textbf{Covariance Type:}    &    nonrobust     & \\textbf{  LLR p-value:       } & 6.329e-86   \\\\\n",
       "\\bottomrule\n",
       "\\end{tabular}\n",
       "\\begin{tabular}{lcccccc}\n",
       "                             & \\textbf{coef} & \\textbf{std err} & \\textbf{z} & \\textbf{P$> |$z$|$} & \\textbf{[0.025} & \\textbf{0.975]}  \\\\\n",
       "\\midrule\n",
       "\\textbf{Fare}                &       0.0109  &        0.003     &     4.200  &         0.000        &        0.006    &        0.016     \\\\\n",
       "\\textbf{Family}              &       0.4258  &        0.098     &     4.363  &         0.000        &        0.235    &        0.617     \\\\\n",
       "\\textbf{Cabin\\_Cat\\_Missing} &      -0.9245  &        0.232     &    -3.977  &         0.000        &       -1.380    &       -0.469     \\\\\n",
       "\\textbf{Titles\\_Mr}          &      -2.5722  &        0.203     &   -12.698  &         0.000        &       -2.969    &       -2.175     \\\\\n",
       "\\textbf{Titles\\_Mrs}         &       0.8667  &        0.293     &     2.958  &         0.003        &        0.292    &        1.441     \\\\\n",
       "\\textbf{Family\\_Cat\\_Large}  &      -4.4873  &        0.639     &    -7.018  &         0.000        &       -5.740    &       -3.234     \\\\\n",
       "\\textbf{Family\\_Cat\\_Solo}   &       0.9603  &        0.219     &     4.387  &         0.000        &        0.531    &        1.389     \\\\\n",
       "\\bottomrule\n",
       "\\end{tabular}\n",
       "%\\caption{Logit Regression Results}\n",
       "\\end{center}"
      ],
      "text/plain": [
       "<class 'statsmodels.iolib.summary.Summary'>\n",
       "\"\"\"\n",
       "                           Logit Regression Results                           \n",
       "==============================================================================\n",
       "Dep. Variable:               Survived   No. Observations:                  891\n",
       "Model:                          Logit   Df Residuals:                      884\n",
       "Method:                           MLE   Df Model:                            6\n",
       "Date:                Tue, 05 Dec 2023   Pseudo R-squ.:                  0.3474\n",
       "Time:                        07:28:54   Log-Likelihood:                -387.18\n",
       "converged:                       True   LL-Null:                       -593.33\n",
       "Covariance Type:            nonrobust   LLR p-value:                 6.329e-86\n",
       "=====================================================================================\n",
       "                        coef    std err          z      P>|z|      [0.025      0.975]\n",
       "-------------------------------------------------------------------------------------\n",
       "Fare                  0.0109      0.003      4.200      0.000       0.006       0.016\n",
       "Family                0.4258      0.098      4.363      0.000       0.235       0.617\n",
       "Cabin_Cat_Missing    -0.9245      0.232     -3.977      0.000      -1.380      -0.469\n",
       "Titles_Mr            -2.5722      0.203    -12.698      0.000      -2.969      -2.175\n",
       "Titles_Mrs            0.8667      0.293      2.958      0.003       0.292       1.441\n",
       "Family_Cat_Large     -4.4873      0.639     -7.018      0.000      -5.740      -3.234\n",
       "Family_Cat_Solo       0.9603      0.219      4.387      0.000       0.531       1.389\n",
       "=====================================================================================\n",
       "\"\"\""
      ]
     },
     "execution_count": 76,
     "metadata": {},
     "output_type": "execute_result"
    }
   ],
   "source": [
    "model.summary()"
   ]
  },
  {
   "cell_type": "code",
   "execution_count": 80,
   "id": "jmL2FIb1625B",
   "metadata": {
    "colab": {
     "base_uri": "https://localhost:8080/"
    },
    "id": "jmL2FIb1625B",
    "outputId": "da0fa619-09b9-45a2-f6b0-c64b85090347"
   },
   "outputs": [
    {
     "data": {
      "text/plain": [
       "1.0109596214276102"
      ]
     },
     "execution_count": 80,
     "metadata": {},
     "output_type": "execute_result"
    }
   ],
   "source": [
    "np.exp(0.0109) # Increase of odds\n",
    "\n",
    "# By an increase of fare by 1 $, odds of surviving increase by 100x"
   ]
  },
  {
   "cell_type": "code",
   "execution_count": 81,
   "id": "qE0rO9hW7O1z",
   "metadata": {
    "colab": {
     "base_uri": "https://localhost:8080/"
    },
    "id": "qE0rO9hW7O1z",
    "outputId": "2910c280-592e-4a26-c06e-2dc5cb60a941"
   },
   "outputs": [
    {
     "data": {
      "text/plain": [
       "0.011250980483955841"
      ]
     },
     "execution_count": 81,
     "metadata": {},
     "output_type": "execute_result"
    }
   ],
   "source": [
    "np.exp(-4.4873\t) # decrease of odds\n",
    "\n",
    "# By an increase of one family member, odds of surviving decrease by 1.1%\n",
    "# This mean thaty the increase of family meember is negatively correalted with survival of passengers..."
   ]
  },
  {
   "cell_type": "code",
   "execution_count": 78,
   "id": "3b61bbec",
   "metadata": {
    "colab": {
     "base_uri": "https://localhost:8080/",
     "height": 75
    },
    "id": "3b61bbec",
    "outputId": "4aedc5d8-49fc-44a5-9058-40abe8519af3"
   },
   "outputs": [
    {
     "data": {
      "text/html": [
       "<style>#sk-container-id-1 {color: black;background-color: white;}#sk-container-id-1 pre{padding: 0;}#sk-container-id-1 div.sk-toggleable {background-color: white;}#sk-container-id-1 label.sk-toggleable__label {cursor: pointer;display: block;width: 100%;margin-bottom: 0;padding: 0.3em;box-sizing: border-box;text-align: center;}#sk-container-id-1 label.sk-toggleable__label-arrow:before {content: \"▸\";float: left;margin-right: 0.25em;color: #696969;}#sk-container-id-1 label.sk-toggleable__label-arrow:hover:before {color: black;}#sk-container-id-1 div.sk-estimator:hover label.sk-toggleable__label-arrow:before {color: black;}#sk-container-id-1 div.sk-toggleable__content {max-height: 0;max-width: 0;overflow: hidden;text-align: left;background-color: #f0f8ff;}#sk-container-id-1 div.sk-toggleable__content pre {margin: 0.2em;color: black;border-radius: 0.25em;background-color: #f0f8ff;}#sk-container-id-1 input.sk-toggleable__control:checked~div.sk-toggleable__content {max-height: 200px;max-width: 100%;overflow: auto;}#sk-container-id-1 input.sk-toggleable__control:checked~label.sk-toggleable__label-arrow:before {content: \"▾\";}#sk-container-id-1 div.sk-estimator input.sk-toggleable__control:checked~label.sk-toggleable__label {background-color: #d4ebff;}#sk-container-id-1 div.sk-label input.sk-toggleable__control:checked~label.sk-toggleable__label {background-color: #d4ebff;}#sk-container-id-1 input.sk-hidden--visually {border: 0;clip: rect(1px 1px 1px 1px);clip: rect(1px, 1px, 1px, 1px);height: 1px;margin: -1px;overflow: hidden;padding: 0;position: absolute;width: 1px;}#sk-container-id-1 div.sk-estimator {font-family: monospace;background-color: #f0f8ff;border: 1px dotted black;border-radius: 0.25em;box-sizing: border-box;margin-bottom: 0.5em;}#sk-container-id-1 div.sk-estimator:hover {background-color: #d4ebff;}#sk-container-id-1 div.sk-parallel-item::after {content: \"\";width: 100%;border-bottom: 1px solid gray;flex-grow: 1;}#sk-container-id-1 div.sk-label:hover label.sk-toggleable__label {background-color: #d4ebff;}#sk-container-id-1 div.sk-serial::before {content: \"\";position: absolute;border-left: 1px solid gray;box-sizing: border-box;top: 0;bottom: 0;left: 50%;z-index: 0;}#sk-container-id-1 div.sk-serial {display: flex;flex-direction: column;align-items: center;background-color: white;padding-right: 0.2em;padding-left: 0.2em;position: relative;}#sk-container-id-1 div.sk-item {position: relative;z-index: 1;}#sk-container-id-1 div.sk-parallel {display: flex;align-items: stretch;justify-content: center;background-color: white;position: relative;}#sk-container-id-1 div.sk-item::before, #sk-container-id-1 div.sk-parallel-item::before {content: \"\";position: absolute;border-left: 1px solid gray;box-sizing: border-box;top: 0;bottom: 0;left: 50%;z-index: -1;}#sk-container-id-1 div.sk-parallel-item {display: flex;flex-direction: column;z-index: 1;position: relative;background-color: white;}#sk-container-id-1 div.sk-parallel-item:first-child::after {align-self: flex-end;width: 50%;}#sk-container-id-1 div.sk-parallel-item:last-child::after {align-self: flex-start;width: 50%;}#sk-container-id-1 div.sk-parallel-item:only-child::after {width: 0;}#sk-container-id-1 div.sk-dashed-wrapped {border: 1px dashed gray;margin: 0 0.4em 0.5em 0.4em;box-sizing: border-box;padding-bottom: 0.4em;background-color: white;}#sk-container-id-1 div.sk-label label {font-family: monospace;font-weight: bold;display: inline-block;line-height: 1.2em;}#sk-container-id-1 div.sk-label-container {text-align: center;}#sk-container-id-1 div.sk-container {/* jupyter's `normalize.less` sets `[hidden] { display: none; }` but bootstrap.min.css set `[hidden] { display: none !important; }` so we also need the `!important` here to be able to override the default hidden behavior on the sphinx rendered scikit-learn.org. See: https://github.com/scikit-learn/scikit-learn/issues/21755 */display: inline-block !important;position: relative;}#sk-container-id-1 div.sk-text-repr-fallback {display: none;}</style><div id=\"sk-container-id-1\" class=\"sk-top-container\"><div class=\"sk-text-repr-fallback\"><pre>GradientBoostingClassifier()</pre><b>In a Jupyter environment, please rerun this cell to show the HTML representation or trust the notebook. <br />On GitHub, the HTML representation is unable to render, please try loading this page with nbviewer.org.</b></div><div class=\"sk-container\" hidden><div class=\"sk-item\"><div class=\"sk-estimator sk-toggleable\"><input class=\"sk-toggleable__control sk-hidden--visually\" id=\"sk-estimator-id-1\" type=\"checkbox\" checked><label for=\"sk-estimator-id-1\" class=\"sk-toggleable__label sk-toggleable__label-arrow\">GradientBoostingClassifier</label><div class=\"sk-toggleable__content\"><pre>GradientBoostingClassifier()</pre></div></div></div></div></div>"
      ],
      "text/plain": [
       "GradientBoostingClassifier()"
      ]
     },
     "execution_count": 78,
     "metadata": {},
     "output_type": "execute_result"
    }
   ],
   "source": [
    "from sklearn.ensemble import GradientBoostingClassifier\n",
    "gbm=GradientBoostingClassifier()\n",
    "\n",
    "gbm.fit(newX,y)"
   ]
  },
  {
   "cell_type": "code",
   "execution_count": null,
   "id": "34143716",
   "metadata": {
    "id": "34143716"
   },
   "outputs": [],
   "source": [
    "pd.DataFrame(gbm.feature_importances_,columns=['FE'],)"
   ]
  },
  {
   "cell_type": "raw",
   "id": "7259b0c2",
   "metadata": {
    "id": "U1p5GxznDLy1"
   },
   "source": [
    "### Pseudo R2\n",
    "# **McFadden R2** - Here, the R2 is not similar to the Linear Regression. There in we interpret the R2 as the ratio of variance in Y explained by X.\n",
    "\n",
    "# Because the variance in Y is not explained by x in Logistic Regression however, R2 exists and therfore it is called Pseudo R2.\n",
    "\n",
    "# Therefore, McFafaddn R2 is calculated by taking Log of (LL_full/LL_null). This is 1-(LLF/LLN)\n",
    "\n",
    "# Note: The value of McFadden R2 will be in the range of 0 and 1\n",
    "\n",
    "# Here, 0 represents that the model has no explanatory power where as 1 represent the model has a very highj explanatory power.\n",
    "\n",
    "# The rangeof McFadden is 0.2 to 0.4. Generally if the model has the R2 falling in this range then we can say the model is good."
   ]
  },
  {
   "cell_type": "code",
   "execution_count": 93,
   "id": "AKorN1hVFmjQ",
   "metadata": {
    "colab": {
     "base_uri": "https://localhost:8080/"
    },
    "id": "AKorN1hVFmjQ",
    "outputId": "cf225ea4-c3a0-45f0-9a94-c43eca86c17f"
   },
   "outputs": [
    {
     "name": "stdout",
     "output_type": "stream",
     "text": [
      "McFadden R2: 0.3474488787775447\n"
     ]
    }
   ],
   "source": [
    "# McFadden\n",
    "mcfadden=1-(model.llf/model.llnull)\n",
    "\n",
    "print('McFadden R2:',mcfadden)"
   ]
  },
  {
   "cell_type": "code",
   "execution_count": 95,
   "id": "ZA9lofOGFtSm",
   "metadata": {
    "id": "ZA9lofOGFtSm"
   },
   "outputs": [],
   "source": [
    "# Cox and snell\n",
    "\n",
    "L0 = np.exp(model.llnull)\n",
    "L1 = np.exp(model.llf)\n",
    "cox_snell=1-(L0/L1)**(2/newX.shape[0])"
   ]
  },
  {
   "cell_type": "code",
   "execution_count": 98,
   "id": "-zxYkTGjHBXK",
   "metadata": {
    "colab": {
     "base_uri": "https://localhost:8080/"
    },
    "id": "-zxYkTGjHBXK",
    "outputId": "86791883-c233-416a-b107-7071536c627b"
   },
   "outputs": [
    {
     "name": "stdout",
     "output_type": "stream",
     "text": [
      "McFadden: 0.3474488787775447\n",
      "Cox and snell: 0.37044416823032167\n",
      "Nagelkerke: 0.5033176723723485\n"
     ]
    }
   ],
   "source": [
    "# Nagelkerke\n",
    "\n",
    "nagelkerke=cox_snell/(1-L0**(2/newX.shape[0]))\n",
    "\n",
    "print('McFadden:',mcfadden)\n",
    "print('Cox and snell:',cox_snell)\n",
    "print('Nagelkerke:',nagelkerke)"
   ]
  },
  {
   "cell_type": "code",
   "execution_count": 99,
   "id": "f666iFq9IGVa",
   "metadata": {
    "id": "f666iFq9IGVa"
   },
   "outputs": [],
   "source": [
    "# which one to go with ?\n",
    "\n",
    "# McFadden is generally a conservative model\n",
    "\n",
    "# Cox and snell is used to commpare thenested models and thus it carries lot of refernce there.Because the value of R2 is adjusted on the basis of n.\n",
    "\n",
    "# Nagelkerke is based on cox and snell but it is more better estinmate because it can easily achieve valyes closer to 1 (not really )\n",
    "# but it is the highest R2 amongst all.\n",
    "\n",
    "# Therfore, Nagelkerke is the goto R2 value for the model"
   ]
  },
  {
   "cell_type": "code",
   "execution_count": 100,
   "id": "GcaBhTHQJux8",
   "metadata": {
    "id": "GcaBhTHQJux8"
   },
   "outputs": [],
   "source": [
    "# AIC :- Akaike information criterion"
   ]
  },
  {
   "cell_type": "code",
   "execution_count": null,
   "id": "OYgluK5pMEZU",
   "metadata": {
    "id": "OYgluK5pMEZU"
   },
   "outputs": [],
   "source": [
    "# Aic measures the good fit of the model by comparing multiple competing model\n",
    "# Lower Value is prefer because it penalisis when the model has ore feature thereby reducing the risk of overfiting\n",
    "\n",
    "# Formula of AIC = 2k- 2 ln(l). where k is feature/predictors and l is log(linklihood of full model)"
   ]
  },
  {
   "cell_type": "code",
   "execution_count": 105,
   "id": "9vP9HKtTMDhp",
   "metadata": {
    "colab": {
     "base_uri": "https://localhost:8080/"
    },
    "id": "9vP9HKtTMDhp",
    "outputId": "67927010-ff8c-4bcc-e381-90afe2193e1d"
   },
   "outputs": [
    {
     "data": {
      "text/plain": [
       "788.3531401238849"
      ]
     },
     "execution_count": 105,
     "metadata": {},
     "output_type": "execute_result"
    }
   ],
   "source": [
    "model.aic     # Lower the AIC better the model"
   ]
  },
  {
   "cell_type": "code",
   "execution_count": 107,
   "id": "UR_NGsM1OPKe",
   "metadata": {
    "colab": {
     "base_uri": "https://localhost:8080/"
    },
    "id": "UR_NGsM1OPKe",
    "outputId": "6a1b317b-59e2-4d1d-86c3-fea0cb837b02"
   },
   "outputs": [
    {
     "data": {
      "text/plain": [
       "4.199591904359971"
      ]
     },
     "execution_count": 107,
     "metadata": {},
     "output_type": "execute_result"
    }
   ],
   "source": [
    "# Wald test\n",
    "# Model.bse represent standard error\n",
    "teststats=model.params[0]/model.bse[0]\n",
    "teststats"
   ]
  },
  {
   "cell_type": "code",
   "execution_count": 108,
   "id": "s0ZN0iq3OZ7Y",
   "metadata": {
    "colab": {
     "base_uri": "https://localhost:8080/"
    },
    "id": "s0ZN0iq3OZ7Y",
    "outputId": "a138870e-a1e3-43de-ecf2-9ee66dac1cd6"
   },
   "outputs": [
    {
     "data": {
      "text/plain": [
       "0.040433708686825005"
      ]
     },
     "execution_count": 108,
     "metadata": {},
     "output_type": "execute_result"
    }
   ],
   "source": [
    "# value# Since the logReg Model follows Chi Square Distt....\n",
    "\n",
    "import scipy.stats as stats\n",
    "stats.chi2.sf(teststats,1) # wald test has df of 1"
   ]
  },
  {
   "cell_type": "code",
   "execution_count": null,
   "id": "LeyQVxksOyvo",
   "metadata": {
    "id": "LeyQVxksOyvo"
   },
   "outputs": [],
   "source": []
  }
 ],
 "metadata": {
  "colab": {
   "provenance": [],
   "toc_visible": true
  },
  "kernelspec": {
   "display_name": "Python 3 (ipykernel)",
   "language": "python",
   "name": "python3"
  },
  "language_info": {
   "codemirror_mode": {
    "name": "ipython",
    "version": 3
   },
   "file_extension": ".py",
   "mimetype": "text/x-python",
   "name": "python",
   "nbconvert_exporter": "python",
   "pygments_lexer": "ipython3",
   "version": "3.11.5"
  }
 },
 "nbformat": 4,
 "nbformat_minor": 5
}
