{
 "cells": [
  {
   "cell_type": "code",
   "execution_count": 26,
   "id": "3d3b4a72",
   "metadata": {},
   "outputs": [],
   "source": [
    "import numpy as np\n",
    "import pandas as pd\n",
    "import seaborn as sns\n",
    "import matplotlib.pyplot as plt\n",
    "from sklearn.model_selection import train_test_split\n",
    "from sklearn.ensemble import RandomForestClassifier, BaggingClassifier, AdaBoostClassifier,\\\n",
    "GradientBoostingClassifier,StackingClassifier,VotingClassifier\n",
    "from imblearn.over_sampling import SMOTE\n",
    "from sklearn.metrics import classification_report, cohen_kappa_score, confusion_matrix,accuracy_score\n",
    "from sklearn.linear_model import LogisticRegression\n",
    "import warnings\n",
    "warnings.filterwarnings('ignore')"
   ]
  },
  {
   "cell_type": "markdown",
   "id": "f69c4dc2",
   "metadata": {},
   "source": [
    "### Impot the data"
   ]
  },
  {
   "cell_type": "code",
   "execution_count": 4,
   "id": "eb8b300c",
   "metadata": {},
   "outputs": [
    {
     "data": {
      "text/html": [
       "<div>\n",
       "<style scoped>\n",
       "    .dataframe tbody tr th:only-of-type {\n",
       "        vertical-align: middle;\n",
       "    }\n",
       "\n",
       "    .dataframe tbody tr th {\n",
       "        vertical-align: top;\n",
       "    }\n",
       "\n",
       "    .dataframe thead th {\n",
       "        text-align: right;\n",
       "    }\n",
       "</style>\n",
       "<table border=\"1\" class=\"dataframe\">\n",
       "  <thead>\n",
       "    <tr style=\"text-align: right;\">\n",
       "      <th></th>\n",
       "      <th>ID</th>\n",
       "      <th>Age</th>\n",
       "      <th>Experience</th>\n",
       "      <th>Income</th>\n",
       "      <th>ZIP Code</th>\n",
       "      <th>Family</th>\n",
       "      <th>CCAvg</th>\n",
       "      <th>Education</th>\n",
       "      <th>Mortgage</th>\n",
       "      <th>Personal Loan</th>\n",
       "      <th>Securities Account</th>\n",
       "      <th>CD Account</th>\n",
       "      <th>Online</th>\n",
       "      <th>CreditCard</th>\n",
       "    </tr>\n",
       "  </thead>\n",
       "  <tbody>\n",
       "    <tr>\n",
       "      <th>0</th>\n",
       "      <td>1</td>\n",
       "      <td>25</td>\n",
       "      <td>1</td>\n",
       "      <td>49</td>\n",
       "      <td>91107</td>\n",
       "      <td>4</td>\n",
       "      <td>1.6</td>\n",
       "      <td>1</td>\n",
       "      <td>0</td>\n",
       "      <td>0</td>\n",
       "      <td>1</td>\n",
       "      <td>0</td>\n",
       "      <td>0</td>\n",
       "      <td>0</td>\n",
       "    </tr>\n",
       "    <tr>\n",
       "      <th>1</th>\n",
       "      <td>2</td>\n",
       "      <td>45</td>\n",
       "      <td>19</td>\n",
       "      <td>34</td>\n",
       "      <td>90089</td>\n",
       "      <td>3</td>\n",
       "      <td>1.5</td>\n",
       "      <td>1</td>\n",
       "      <td>0</td>\n",
       "      <td>0</td>\n",
       "      <td>1</td>\n",
       "      <td>0</td>\n",
       "      <td>0</td>\n",
       "      <td>0</td>\n",
       "    </tr>\n",
       "    <tr>\n",
       "      <th>2</th>\n",
       "      <td>3</td>\n",
       "      <td>39</td>\n",
       "      <td>15</td>\n",
       "      <td>11</td>\n",
       "      <td>94720</td>\n",
       "      <td>1</td>\n",
       "      <td>1.0</td>\n",
       "      <td>1</td>\n",
       "      <td>0</td>\n",
       "      <td>0</td>\n",
       "      <td>0</td>\n",
       "      <td>0</td>\n",
       "      <td>0</td>\n",
       "      <td>0</td>\n",
       "    </tr>\n",
       "    <tr>\n",
       "      <th>3</th>\n",
       "      <td>4</td>\n",
       "      <td>35</td>\n",
       "      <td>9</td>\n",
       "      <td>100</td>\n",
       "      <td>94112</td>\n",
       "      <td>1</td>\n",
       "      <td>2.7</td>\n",
       "      <td>2</td>\n",
       "      <td>0</td>\n",
       "      <td>0</td>\n",
       "      <td>0</td>\n",
       "      <td>0</td>\n",
       "      <td>0</td>\n",
       "      <td>0</td>\n",
       "    </tr>\n",
       "    <tr>\n",
       "      <th>4</th>\n",
       "      <td>5</td>\n",
       "      <td>35</td>\n",
       "      <td>8</td>\n",
       "      <td>45</td>\n",
       "      <td>91330</td>\n",
       "      <td>4</td>\n",
       "      <td>1.0</td>\n",
       "      <td>2</td>\n",
       "      <td>0</td>\n",
       "      <td>0</td>\n",
       "      <td>0</td>\n",
       "      <td>0</td>\n",
       "      <td>0</td>\n",
       "      <td>1</td>\n",
       "    </tr>\n",
       "    <tr>\n",
       "      <th>...</th>\n",
       "      <td>...</td>\n",
       "      <td>...</td>\n",
       "      <td>...</td>\n",
       "      <td>...</td>\n",
       "      <td>...</td>\n",
       "      <td>...</td>\n",
       "      <td>...</td>\n",
       "      <td>...</td>\n",
       "      <td>...</td>\n",
       "      <td>...</td>\n",
       "      <td>...</td>\n",
       "      <td>...</td>\n",
       "      <td>...</td>\n",
       "      <td>...</td>\n",
       "    </tr>\n",
       "    <tr>\n",
       "      <th>4995</th>\n",
       "      <td>4996</td>\n",
       "      <td>29</td>\n",
       "      <td>3</td>\n",
       "      <td>40</td>\n",
       "      <td>92697</td>\n",
       "      <td>1</td>\n",
       "      <td>1.9</td>\n",
       "      <td>3</td>\n",
       "      <td>0</td>\n",
       "      <td>0</td>\n",
       "      <td>0</td>\n",
       "      <td>0</td>\n",
       "      <td>1</td>\n",
       "      <td>0</td>\n",
       "    </tr>\n",
       "    <tr>\n",
       "      <th>4996</th>\n",
       "      <td>4997</td>\n",
       "      <td>30</td>\n",
       "      <td>4</td>\n",
       "      <td>15</td>\n",
       "      <td>92037</td>\n",
       "      <td>4</td>\n",
       "      <td>0.4</td>\n",
       "      <td>1</td>\n",
       "      <td>85</td>\n",
       "      <td>0</td>\n",
       "      <td>0</td>\n",
       "      <td>0</td>\n",
       "      <td>1</td>\n",
       "      <td>0</td>\n",
       "    </tr>\n",
       "    <tr>\n",
       "      <th>4997</th>\n",
       "      <td>4998</td>\n",
       "      <td>63</td>\n",
       "      <td>39</td>\n",
       "      <td>24</td>\n",
       "      <td>93023</td>\n",
       "      <td>2</td>\n",
       "      <td>0.3</td>\n",
       "      <td>3</td>\n",
       "      <td>0</td>\n",
       "      <td>0</td>\n",
       "      <td>0</td>\n",
       "      <td>0</td>\n",
       "      <td>0</td>\n",
       "      <td>0</td>\n",
       "    </tr>\n",
       "    <tr>\n",
       "      <th>4998</th>\n",
       "      <td>4999</td>\n",
       "      <td>65</td>\n",
       "      <td>40</td>\n",
       "      <td>49</td>\n",
       "      <td>90034</td>\n",
       "      <td>3</td>\n",
       "      <td>0.5</td>\n",
       "      <td>2</td>\n",
       "      <td>0</td>\n",
       "      <td>0</td>\n",
       "      <td>0</td>\n",
       "      <td>0</td>\n",
       "      <td>1</td>\n",
       "      <td>0</td>\n",
       "    </tr>\n",
       "    <tr>\n",
       "      <th>4999</th>\n",
       "      <td>5000</td>\n",
       "      <td>28</td>\n",
       "      <td>4</td>\n",
       "      <td>83</td>\n",
       "      <td>92612</td>\n",
       "      <td>3</td>\n",
       "      <td>0.8</td>\n",
       "      <td>1</td>\n",
       "      <td>0</td>\n",
       "      <td>0</td>\n",
       "      <td>0</td>\n",
       "      <td>0</td>\n",
       "      <td>1</td>\n",
       "      <td>1</td>\n",
       "    </tr>\n",
       "  </tbody>\n",
       "</table>\n",
       "<p>5000 rows × 14 columns</p>\n",
       "</div>"
      ],
      "text/plain": [
       "        ID  Age  Experience  Income  ZIP Code  Family  CCAvg  Education  \\\n",
       "0        1   25           1      49     91107       4    1.6          1   \n",
       "1        2   45          19      34     90089       3    1.5          1   \n",
       "2        3   39          15      11     94720       1    1.0          1   \n",
       "3        4   35           9     100     94112       1    2.7          2   \n",
       "4        5   35           8      45     91330       4    1.0          2   \n",
       "...    ...  ...         ...     ...       ...     ...    ...        ...   \n",
       "4995  4996   29           3      40     92697       1    1.9          3   \n",
       "4996  4997   30           4      15     92037       4    0.4          1   \n",
       "4997  4998   63          39      24     93023       2    0.3          3   \n",
       "4998  4999   65          40      49     90034       3    0.5          2   \n",
       "4999  5000   28           4      83     92612       3    0.8          1   \n",
       "\n",
       "      Mortgage  Personal Loan  Securities Account  CD Account  Online  \\\n",
       "0            0              0                   1           0       0   \n",
       "1            0              0                   1           0       0   \n",
       "2            0              0                   0           0       0   \n",
       "3            0              0                   0           0       0   \n",
       "4            0              0                   0           0       0   \n",
       "...        ...            ...                 ...         ...     ...   \n",
       "4995         0              0                   0           0       1   \n",
       "4996        85              0                   0           0       1   \n",
       "4997         0              0                   0           0       0   \n",
       "4998         0              0                   0           0       1   \n",
       "4999         0              0                   0           0       1   \n",
       "\n",
       "      CreditCard  \n",
       "0              0  \n",
       "1              0  \n",
       "2              0  \n",
       "3              0  \n",
       "4              1  \n",
       "...          ...  \n",
       "4995           0  \n",
       "4996           0  \n",
       "4997           0  \n",
       "4998           0  \n",
       "4999           1  \n",
       "\n",
       "[5000 rows x 14 columns]"
      ]
     },
     "execution_count": 4,
     "metadata": {},
     "output_type": "execute_result"
    }
   ],
   "source": [
    "data=pd.read_excel('Bank_Personal_Loan_Modelling-1 (1).xlsx',sheet_name=1)\n",
    "data"
   ]
  },
  {
   "cell_type": "code",
   "execution_count": 5,
   "id": "d320ed23",
   "metadata": {},
   "outputs": [],
   "source": [
    "del data['ID']"
   ]
  },
  {
   "cell_type": "code",
   "execution_count": 6,
   "id": "a3c48abd",
   "metadata": {},
   "outputs": [],
   "source": [
    "x=data.drop(columns=['Personal Loan'])\n",
    "y=data['Personal Loan']"
   ]
  },
  {
   "cell_type": "code",
   "execution_count": 7,
   "id": "4717718a",
   "metadata": {},
   "outputs": [],
   "source": [
    "x_train,x_test,y_train,y_test=train_test_split(x,y,train_size=0.8,stratify=y,random_state=2)"
   ]
  },
  {
   "cell_type": "code",
   "execution_count": 8,
   "id": "ae84f28a",
   "metadata": {},
   "outputs": [
    {
     "name": "stdout",
     "output_type": "stream",
     "text": [
      "(4000, 12) (4000,) (1000, 12) (1000,)\n"
     ]
    }
   ],
   "source": [
    "print(x_train.shape,y_train.shape,x_test.shape,y_test.shape)"
   ]
  },
  {
   "cell_type": "code",
   "execution_count": 9,
   "id": "2ef2ce28",
   "metadata": {},
   "outputs": [
    {
     "data": {
      "text/plain": [
       "Personal Loan\n",
       "0    3616\n",
       "1     384\n",
       "Name: count, dtype: int64"
      ]
     },
     "execution_count": 9,
     "metadata": {},
     "output_type": "execute_result"
    }
   ],
   "source": [
    "y_train.value_counts()"
   ]
  },
  {
   "cell_type": "code",
   "execution_count": 10,
   "id": "b0ba96d4",
   "metadata": {},
   "outputs": [],
   "source": [
    "# Balance the data\n",
    "os=SMOTE(sampling_strategy=0.6)"
   ]
  },
  {
   "cell_type": "code",
   "execution_count": 11,
   "id": "3f7f4f25",
   "metadata": {},
   "outputs": [],
   "source": [
    "x_train_os,y_train_os=os.fit_resample(x_train,y_train)"
   ]
  },
  {
   "cell_type": "code",
   "execution_count": 12,
   "id": "63a944d8",
   "metadata": {},
   "outputs": [
    {
     "data": {
      "text/plain": [
       "Personal Loan\n",
       "0    3616\n",
       "1    2169\n",
       "Name: count, dtype: int64"
      ]
     },
     "execution_count": 12,
     "metadata": {},
     "output_type": "execute_result"
    }
   ],
   "source": [
    "y_train_os.value_counts()"
   ]
  },
  {
   "cell_type": "markdown",
   "id": "2a470a73",
   "metadata": {},
   "source": [
    "## Ensemble Techinques"
   ]
  },
  {
   "cell_type": "markdown",
   "id": "ccaa0697",
   "metadata": {},
   "source": [
    "### Bagging Algorithms"
   ]
  },
  {
   "cell_type": "code",
   "execution_count": 27,
   "id": "f5940b69",
   "metadata": {},
   "outputs": [],
   "source": [
    "def model_validation(model,trainx,trainy,testx,testy):\n",
    "    m = model\n",
    "    m.fit(trainx,trainy)\n",
    "    y_pred = m.predict(testx)\n",
    "    print('Confusion Matrix:\\n',confusion_matrix(testy,y_pred))\n",
    "    print('Classification Report\\n', classification_report(testy,y_pred))\n",
    "    print('Cohen Kappa Score\\n', cohen_kappa_score(testy,y_pred))\n",
    "    print('Accuracy Score \\n', accuracy_score(testy,y_pred))"
   ]
  },
  {
   "cell_type": "code",
   "execution_count": 28,
   "id": "dde73be9",
   "metadata": {},
   "outputs": [
    {
     "name": "stdout",
     "output_type": "stream",
     "text": [
      "Confusion Matrix:\n",
      " [[800 104]\n",
      " [ 18  78]]\n",
      "Classification Report\n",
      "               precision    recall  f1-score   support\n",
      "\n",
      "           0       0.98      0.88      0.93       904\n",
      "           1       0.43      0.81      0.56        96\n",
      "\n",
      "    accuracy                           0.88      1000\n",
      "   macro avg       0.70      0.85      0.75      1000\n",
      "weighted avg       0.93      0.88      0.89      1000\n",
      "\n",
      "Cohen Kappa Score\n",
      " 0.49805806069383185\n",
      "Accuracy Score \n",
      " 0.878\n"
     ]
    }
   ],
   "source": [
    "# Logistic Regression\n",
    "model_validation(LogisticRegression(),x_train_os,y_train_os,x_test,y_test)"
   ]
  },
  {
   "cell_type": "code",
   "execution_count": 29,
   "id": "a3ee2c75",
   "metadata": {},
   "outputs": [
    {
     "name": "stdout",
     "output_type": "stream",
     "text": [
      "Confusion Matrix:\n",
      " [[867  37]\n",
      " [  4  92]]\n",
      "Classification Report\n",
      "               precision    recall  f1-score   support\n",
      "\n",
      "           0       1.00      0.96      0.98       904\n",
      "           1       0.71      0.96      0.82        96\n",
      "\n",
      "    accuracy                           0.96      1000\n",
      "   macro avg       0.85      0.96      0.90      1000\n",
      "weighted avg       0.97      0.96      0.96      1000\n",
      "\n",
      "Cohen Kappa Score\n",
      " 0.7952375244716129\n",
      "Accuracy Score \n",
      " 0.959\n"
     ]
    }
   ],
   "source": [
    "# Random forest\n",
    "model_validation(RandomForestClassifier(n_estimators=200,max_depth=5),x_train_os,y_train_os,x_test,y_test)"
   ]
  },
  {
   "cell_type": "code",
   "execution_count": 30,
   "id": "895795c8",
   "metadata": {},
   "outputs": [
    {
     "name": "stdout",
     "output_type": "stream",
     "text": [
      "Confusion Matrix:\n",
      " [[831  73]\n",
      " [ 16  80]]\n",
      "Classification Report\n",
      "               precision    recall  f1-score   support\n",
      "\n",
      "           0       0.98      0.92      0.95       904\n",
      "           1       0.52      0.83      0.64        96\n",
      "\n",
      "    accuracy                           0.91      1000\n",
      "   macro avg       0.75      0.88      0.80      1000\n",
      "weighted avg       0.94      0.91      0.92      1000\n",
      "\n",
      "Cohen Kappa Score\n",
      " 0.5947619567988927\n",
      "Accuracy Score \n",
      " 0.911\n"
     ]
    }
   ],
   "source": [
    "# Bagging with naive bayes \n",
    "from sklearn.naive_bayes import GaussianNB\n",
    "model_validation(BaggingClassifier(base_estimator=GaussianNB(),n_estimators=200),x_train_os,\\\n",
    "                 y_train_os,x_test,y_test)"
   ]
  },
  {
   "cell_type": "markdown",
   "id": "05931ba7",
   "metadata": {},
   "source": [
    "### Boosting"
   ]
  },
  {
   "cell_type": "code",
   "execution_count": 31,
   "id": "662185eb",
   "metadata": {},
   "outputs": [
    {
     "name": "stdout",
     "output_type": "stream",
     "text": [
      "Confusion Matrix:\n",
      " [[864  40]\n",
      " [  5  91]]\n",
      "Classification Report\n",
      "               precision    recall  f1-score   support\n",
      "\n",
      "           0       0.99      0.96      0.97       904\n",
      "           1       0.69      0.95      0.80        96\n",
      "\n",
      "    accuracy                           0.95      1000\n",
      "   macro avg       0.84      0.95      0.89      1000\n",
      "weighted avg       0.97      0.95      0.96      1000\n",
      "\n",
      "Cohen Kappa Score\n",
      " 0.777059965914946\n",
      "Accuracy Score \n",
      " 0.955\n"
     ]
    }
   ],
   "source": [
    "# AdaBoost\n",
    "model_validation(AdaBoostClassifier(n_estimators=200),x_train_os,y_train_os,x_test,y_test)"
   ]
  },
  {
   "cell_type": "code",
   "execution_count": 32,
   "id": "ffda1c49",
   "metadata": {},
   "outputs": [
    {
     "name": "stdout",
     "output_type": "stream",
     "text": [
      "Confusion Matrix:\n",
      " [[898   6]\n",
      " [  4  92]]\n",
      "Classification Report\n",
      "               precision    recall  f1-score   support\n",
      "\n",
      "           0       1.00      0.99      0.99       904\n",
      "           1       0.94      0.96      0.95        96\n",
      "\n",
      "    accuracy                           0.99      1000\n",
      "   macro avg       0.97      0.98      0.97      1000\n",
      "weighted avg       0.99      0.99      0.99      1000\n",
      "\n",
      "Cohen Kappa Score\n",
      " 0.9429171613846014\n",
      "Accuracy Score \n",
      " 0.99\n"
     ]
    }
   ],
   "source": [
    "# Gradient Boosting \n",
    "model_validation(GradientBoostingClassifier(n_estimators=200,max_depth=5),x_train_os,y_train_os,x_test,y_test)"
   ]
  },
  {
   "cell_type": "code",
   "execution_count": 33,
   "id": "5d2b28e7",
   "metadata": {},
   "outputs": [],
   "source": [
    "# XGBoost\n",
    "from xgboost import XGBClassifier"
   ]
  },
  {
   "cell_type": "code",
   "execution_count": 34,
   "id": "42355bb1",
   "metadata": {},
   "outputs": [
    {
     "name": "stdout",
     "output_type": "stream",
     "text": [
      "Confusion Matrix:\n",
      " [[891  13]\n",
      " [  5  91]]\n",
      "Classification Report\n",
      "               precision    recall  f1-score   support\n",
      "\n",
      "           0       0.99      0.99      0.99       904\n",
      "           1       0.88      0.95      0.91        96\n",
      "\n",
      "    accuracy                           0.98      1000\n",
      "   macro avg       0.93      0.97      0.95      1000\n",
      "weighted avg       0.98      0.98      0.98      1000\n",
      "\n",
      "Cohen Kappa Score\n",
      " 0.9000177746178457\n",
      "Accuracy Score \n",
      " 0.982\n"
     ]
    }
   ],
   "source": [
    "model_validation(XGBClassifier(n_estimators=150,gamma=2),x_train_os,y_train_os,x_test,y_test)"
   ]
  },
  {
   "cell_type": "markdown",
   "id": "3ffef4c2",
   "metadata": {},
   "source": [
    "### Voting"
   ]
  },
  {
   "cell_type": "code",
   "execution_count": 35,
   "id": "31856607",
   "metadata": {},
   "outputs": [],
   "source": [
    "from sklearn.linear_model import LogisticRegression\n",
    "from sklearn.tree import DecisionTreeClassifier\n",
    "from sklearn.neighbors import KNeighborsClassifier"
   ]
  },
  {
   "cell_type": "code",
   "execution_count": 36,
   "id": "9fea6c07",
   "metadata": {},
   "outputs": [],
   "source": [
    "base_estimators = [('Logistic Regression',LogisticRegression()),\n",
    "                   ('Naive Bayes',GaussianNB()),\n",
    "                   ('Decision Tree',DecisionTreeClassifier(max_depth=5)),\n",
    "                   ('KNN',KNeighborsClassifier(n_neighbors=7))]"
   ]
  },
  {
   "cell_type": "code",
   "execution_count": 37,
   "id": "6d0cd2f3",
   "metadata": {},
   "outputs": [
    {
     "name": "stdout",
     "output_type": "stream",
     "text": [
      "Confusion Matrix:\n",
      " [[863  41]\n",
      " [ 18  78]]\n",
      "Classification Report\n",
      "               precision    recall  f1-score   support\n",
      "\n",
      "           0       0.98      0.95      0.97       904\n",
      "           1       0.66      0.81      0.73        96\n",
      "\n",
      "    accuracy                           0.94      1000\n",
      "   macro avg       0.82      0.88      0.85      1000\n",
      "weighted avg       0.95      0.94      0.94      1000\n",
      "\n",
      "Cohen Kappa Score\n",
      " 0.6929514134643406\n",
      "Accuracy Score \n",
      " 0.941\n"
     ]
    }
   ],
   "source": [
    "model_validation(VotingClassifier(base_estimators),x_train_os,y_train_os,x_test,y_test)"
   ]
  },
  {
   "cell_type": "markdown",
   "id": "4db01f4d",
   "metadata": {},
   "source": [
    "### Stacking"
   ]
  },
  {
   "cell_type": "code",
   "execution_count": 38,
   "id": "8bc4b389",
   "metadata": {},
   "outputs": [],
   "source": [
    "base_estimators = [('Naive Bayes',GaussianNB()),\n",
    "                   ('Decision Tree',DecisionTreeClassifier(max_depth=5)),\n",
    "                   ('KNN',KNeighborsClassifier(n_neighbors=7)),\n",
    "                  ('Random Forest',RandomForestClassifier(n_estimators=200,max_depth=5))]"
   ]
  },
  {
   "cell_type": "code",
   "execution_count": 39,
   "id": "0e82283e",
   "metadata": {},
   "outputs": [
    {
     "name": "stdout",
     "output_type": "stream",
     "text": [
      "Confusion Matrix:\n",
      " [[890  14]\n",
      " [  6  90]]\n",
      "Classification Report\n",
      "               precision    recall  f1-score   support\n",
      "\n",
      "           0       0.99      0.98      0.99       904\n",
      "           1       0.87      0.94      0.90        96\n",
      "\n",
      "    accuracy                           0.98      1000\n",
      "   macro avg       0.93      0.96      0.94      1000\n",
      "weighted avg       0.98      0.98      0.98      1000\n",
      "\n",
      "Cohen Kappa Score\n",
      " 0.888908638464273\n",
      "Accuracy Score \n",
      " 0.98\n"
     ]
    }
   ],
   "source": [
    "model_validation(StackingClassifier(estimators=base_estimators,\\\n",
    "                                    final_estimator=DecisionTreeClassifier(max_depth=3))\\\n",
    "                                    ,x_train_os,y_train_os,x_test,y_test)"
   ]
  },
  {
   "cell_type": "code",
   "execution_count": null,
   "id": "c76e8166",
   "metadata": {},
   "outputs": [],
   "source": []
  },
  {
   "cell_type": "code",
   "execution_count": null,
   "id": "c0d9d44e",
   "metadata": {},
   "outputs": [],
   "source": []
  }
 ],
 "metadata": {
  "kernelspec": {
   "display_name": "Python 3 (ipykernel)",
   "language": "python",
   "name": "python3"
  },
  "language_info": {
   "codemirror_mode": {
    "name": "ipython",
    "version": 3
   },
   "file_extension": ".py",
   "mimetype": "text/x-python",
   "name": "python",
   "nbconvert_exporter": "python",
   "pygments_lexer": "ipython3",
   "version": "3.11.5"
  }
 },
 "nbformat": 4,
 "nbformat_minor": 5
}
